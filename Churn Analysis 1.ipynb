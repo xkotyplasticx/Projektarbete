{
 "cells": [
  {
   "cell_type": "code",
   "execution_count": 1,
   "metadata": {},
   "outputs": [],
   "source": [
    "import pandas as pd\n",
    "import numpy as np\n",
    "import matplotlib.pyplot as plt\n",
    "import seaborn as sns\n",
    "from sklearn.model_selection import train_test_split\n",
    "from sklearn.ensemble import RandomForestClassifier\n",
    "from sklearn.metrics import classification_report, confusion_matrix\n",
    "from sklearn.preprocessing import LabelEncoder\n",
    "import joblib\n"
   ]
  },
  {
   "cell_type": "markdown",
   "metadata": {},
   "source": [
    "# Reading Data"
   ]
  },
  {
   "cell_type": "code",
   "execution_count": 2,
   "metadata": {},
   "outputs": [],
   "source": [
    "# Define the path to the Excel file\n",
    "file_path = r\"C:/Users/mosta/OneDrive/Desktop/Ds 2023/Project Data Science 30.09.2024 to 1.11.2024/Churn Analysis Portfolio Project/Prediction_Data.xlsx\"\n"
   ]
  },
  {
   "cell_type": "code",
   "execution_count": 3,
   "metadata": {},
   "outputs": [],
   "source": [
    "# Define the sheet name to read data from\n",
    "sheet_name = 'vw_ChurnData'"
   ]
  },
  {
   "cell_type": "code",
   "execution_count": 4,
   "metadata": {},
   "outputs": [],
   "source": [
    "# Read the data from the specified sheet into a pandas DataFrame\n",
    "data = pd.read_excel(file_path, sheet_name=sheet_name)"
   ]
  },
  {
   "cell_type": "code",
   "execution_count": 5,
   "metadata": {},
   "outputs": [
    {
     "name": "stdout",
     "output_type": "stream",
     "text": [
      "  Customer_ID  Gender  Age Married           State  Number_of_Referrals  \\\n",
      "0   11098-MAD  Female   30     Yes  Madhya Pradesh                    0   \n",
      "1   11114-PUN    Male   51      No          Punjab                    5   \n",
      "2   11167-WES  Female   43     Yes     West Bengal                    3   \n",
      "3   11179-MAH    Male   35      No     Maharashtra                   10   \n",
      "4   11180-TAM    Male   75     Yes      Tamil Nadu                   12   \n",
      "\n",
      "   Tenure_in_Months Value_Deal Phone_Service Multiple_Lines  ...  \\\n",
      "0                31     Deal 1           Yes             No  ...   \n",
      "1                 9     Deal 5           Yes             No  ...   \n",
      "2                28     Deal 1           Yes            Yes  ...   \n",
      "3                12       None           Yes             No  ...   \n",
      "4                27     Deal 2           Yes             No  ...   \n",
      "\n",
      "    Payment_Method Monthly_Charge Total_Charges Total_Refunds  \\\n",
      "0  Bank Withdrawal          95.10       6683.40          0.00   \n",
      "1  Bank Withdrawal          49.15        169.05          0.00   \n",
      "2  Bank Withdrawal         116.05       8297.50         42.57   \n",
      "3      Credit Card          84.40       5969.30          0.00   \n",
      "4      Credit Card          72.60       4084.35          0.00   \n",
      "\n",
      "  Total_Extra_Data_Charges Total_Long_Distance_Charges Total_Revenue  \\\n",
      "0                        0                      631.72       7315.12   \n",
      "1                       10                      122.37        301.42   \n",
      "2                      110                     1872.98      10237.91   \n",
      "3                        0                      219.39       6188.69   \n",
      "4                      140                      332.08       4556.43   \n",
      "\n",
      "  Customer_Status Churn_Category                   Churn_Reason  \n",
      "0          Stayed         Others                         Others  \n",
      "1         Churned     Competitor  Competitor had better devices  \n",
      "2          Stayed         Others                         Others  \n",
      "3          Stayed         Others                         Others  \n",
      "4          Stayed         Others                         Others  \n",
      "\n",
      "[5 rows x 32 columns]\n"
     ]
    }
   ],
   "source": [
    "# Display the first few rows of the fetched data\n",
    "print(data.head())"
   ]
  },
  {
   "cell_type": "code",
   "execution_count": 6,
   "metadata": {},
   "outputs": [
    {
     "data": {
      "text/html": [
       "<div>\n",
       "<style scoped>\n",
       "    .dataframe tbody tr th:only-of-type {\n",
       "        vertical-align: middle;\n",
       "    }\n",
       "\n",
       "    .dataframe tbody tr th {\n",
       "        vertical-align: top;\n",
       "    }\n",
       "\n",
       "    .dataframe thead th {\n",
       "        text-align: right;\n",
       "    }\n",
       "</style>\n",
       "<table border=\"1\" class=\"dataframe\">\n",
       "  <thead>\n",
       "    <tr style=\"text-align: right;\">\n",
       "      <th></th>\n",
       "      <th>Customer_ID</th>\n",
       "      <th>Gender</th>\n",
       "      <th>Age</th>\n",
       "      <th>Married</th>\n",
       "      <th>State</th>\n",
       "      <th>Number_of_Referrals</th>\n",
       "      <th>Tenure_in_Months</th>\n",
       "      <th>Value_Deal</th>\n",
       "      <th>Phone_Service</th>\n",
       "      <th>Multiple_Lines</th>\n",
       "      <th>Internet_Service</th>\n",
       "      <th>Internet_Type</th>\n",
       "      <th>Online_Security</th>\n",
       "      <th>Online_Backup</th>\n",
       "      <th>Device_Protection_Plan</th>\n",
       "      <th>Premium_Support</th>\n",
       "      <th>Streaming_TV</th>\n",
       "      <th>Streaming_Movies</th>\n",
       "      <th>Streaming_Music</th>\n",
       "      <th>Unlimited_Data</th>\n",
       "      <th>Contract</th>\n",
       "      <th>Paperless_Billing</th>\n",
       "      <th>Payment_Method</th>\n",
       "      <th>Monthly_Charge</th>\n",
       "      <th>Total_Charges</th>\n",
       "      <th>Total_Refunds</th>\n",
       "      <th>Total_Extra_Data_Charges</th>\n",
       "      <th>Total_Long_Distance_Charges</th>\n",
       "      <th>Total_Revenue</th>\n",
       "      <th>Customer_Status</th>\n",
       "      <th>Churn_Category</th>\n",
       "      <th>Churn_Reason</th>\n",
       "    </tr>\n",
       "  </thead>\n",
       "  <tbody>\n",
       "    <tr>\n",
       "      <th>0</th>\n",
       "      <td>11098-MAD</td>\n",
       "      <td>Female</td>\n",
       "      <td>30</td>\n",
       "      <td>Yes</td>\n",
       "      <td>Madhya Pradesh</td>\n",
       "      <td>0</td>\n",
       "      <td>31</td>\n",
       "      <td>Deal 1</td>\n",
       "      <td>Yes</td>\n",
       "      <td>No</td>\n",
       "      <td>Yes</td>\n",
       "      <td>Fiber Optic</td>\n",
       "      <td>Yes</td>\n",
       "      <td>Yes</td>\n",
       "      <td>No</td>\n",
       "      <td>Yes</td>\n",
       "      <td>No</td>\n",
       "      <td>Yes</td>\n",
       "      <td>Yes</td>\n",
       "      <td>Yes</td>\n",
       "      <td>Two Year</td>\n",
       "      <td>No</td>\n",
       "      <td>Bank Withdrawal</td>\n",
       "      <td>95.10</td>\n",
       "      <td>6683.40</td>\n",
       "      <td>0.00</td>\n",
       "      <td>0</td>\n",
       "      <td>631.72</td>\n",
       "      <td>7315.12</td>\n",
       "      <td>Stayed</td>\n",
       "      <td>Others</td>\n",
       "      <td>Others</td>\n",
       "    </tr>\n",
       "    <tr>\n",
       "      <th>1</th>\n",
       "      <td>11114-PUN</td>\n",
       "      <td>Male</td>\n",
       "      <td>51</td>\n",
       "      <td>No</td>\n",
       "      <td>Punjab</td>\n",
       "      <td>5</td>\n",
       "      <td>9</td>\n",
       "      <td>Deal 5</td>\n",
       "      <td>Yes</td>\n",
       "      <td>No</td>\n",
       "      <td>Yes</td>\n",
       "      <td>DSL</td>\n",
       "      <td>No</td>\n",
       "      <td>No</td>\n",
       "      <td>Yes</td>\n",
       "      <td>No</td>\n",
       "      <td>No</td>\n",
       "      <td>No</td>\n",
       "      <td>No</td>\n",
       "      <td>No</td>\n",
       "      <td>Month-to-Month</td>\n",
       "      <td>Yes</td>\n",
       "      <td>Bank Withdrawal</td>\n",
       "      <td>49.15</td>\n",
       "      <td>169.05</td>\n",
       "      <td>0.00</td>\n",
       "      <td>10</td>\n",
       "      <td>122.37</td>\n",
       "      <td>301.42</td>\n",
       "      <td>Churned</td>\n",
       "      <td>Competitor</td>\n",
       "      <td>Competitor had better devices</td>\n",
       "    </tr>\n",
       "    <tr>\n",
       "      <th>2</th>\n",
       "      <td>11167-WES</td>\n",
       "      <td>Female</td>\n",
       "      <td>43</td>\n",
       "      <td>Yes</td>\n",
       "      <td>West Bengal</td>\n",
       "      <td>3</td>\n",
       "      <td>28</td>\n",
       "      <td>Deal 1</td>\n",
       "      <td>Yes</td>\n",
       "      <td>Yes</td>\n",
       "      <td>Yes</td>\n",
       "      <td>Fiber Optic</td>\n",
       "      <td>Yes</td>\n",
       "      <td>Yes</td>\n",
       "      <td>Yes</td>\n",
       "      <td>Yes</td>\n",
       "      <td>Yes</td>\n",
       "      <td>Yes</td>\n",
       "      <td>Yes</td>\n",
       "      <td>No</td>\n",
       "      <td>Two Year</td>\n",
       "      <td>Yes</td>\n",
       "      <td>Bank Withdrawal</td>\n",
       "      <td>116.05</td>\n",
       "      <td>8297.50</td>\n",
       "      <td>42.57</td>\n",
       "      <td>110</td>\n",
       "      <td>1872.98</td>\n",
       "      <td>10237.91</td>\n",
       "      <td>Stayed</td>\n",
       "      <td>Others</td>\n",
       "      <td>Others</td>\n",
       "    </tr>\n",
       "    <tr>\n",
       "      <th>3</th>\n",
       "      <td>11179-MAH</td>\n",
       "      <td>Male</td>\n",
       "      <td>35</td>\n",
       "      <td>No</td>\n",
       "      <td>Maharashtra</td>\n",
       "      <td>10</td>\n",
       "      <td>12</td>\n",
       "      <td>None</td>\n",
       "      <td>Yes</td>\n",
       "      <td>No</td>\n",
       "      <td>Yes</td>\n",
       "      <td>DSL</td>\n",
       "      <td>Yes</td>\n",
       "      <td>Yes</td>\n",
       "      <td>Yes</td>\n",
       "      <td>Yes</td>\n",
       "      <td>Yes</td>\n",
       "      <td>Yes</td>\n",
       "      <td>Yes</td>\n",
       "      <td>Yes</td>\n",
       "      <td>Two Year</td>\n",
       "      <td>Yes</td>\n",
       "      <td>Credit Card</td>\n",
       "      <td>84.40</td>\n",
       "      <td>5969.30</td>\n",
       "      <td>0.00</td>\n",
       "      <td>0</td>\n",
       "      <td>219.39</td>\n",
       "      <td>6188.69</td>\n",
       "      <td>Stayed</td>\n",
       "      <td>Others</td>\n",
       "      <td>Others</td>\n",
       "    </tr>\n",
       "    <tr>\n",
       "      <th>4</th>\n",
       "      <td>11180-TAM</td>\n",
       "      <td>Male</td>\n",
       "      <td>75</td>\n",
       "      <td>Yes</td>\n",
       "      <td>Tamil Nadu</td>\n",
       "      <td>12</td>\n",
       "      <td>27</td>\n",
       "      <td>Deal 2</td>\n",
       "      <td>Yes</td>\n",
       "      <td>No</td>\n",
       "      <td>Yes</td>\n",
       "      <td>DSL</td>\n",
       "      <td>Yes</td>\n",
       "      <td>No</td>\n",
       "      <td>No</td>\n",
       "      <td>Yes</td>\n",
       "      <td>Yes</td>\n",
       "      <td>Yes</td>\n",
       "      <td>No</td>\n",
       "      <td>No</td>\n",
       "      <td>Two Year</td>\n",
       "      <td>Yes</td>\n",
       "      <td>Credit Card</td>\n",
       "      <td>72.60</td>\n",
       "      <td>4084.35</td>\n",
       "      <td>0.00</td>\n",
       "      <td>140</td>\n",
       "      <td>332.08</td>\n",
       "      <td>4556.43</td>\n",
       "      <td>Stayed</td>\n",
       "      <td>Others</td>\n",
       "      <td>Others</td>\n",
       "    </tr>\n",
       "    <tr>\n",
       "      <th>...</th>\n",
       "      <td>...</td>\n",
       "      <td>...</td>\n",
       "      <td>...</td>\n",
       "      <td>...</td>\n",
       "      <td>...</td>\n",
       "      <td>...</td>\n",
       "      <td>...</td>\n",
       "      <td>...</td>\n",
       "      <td>...</td>\n",
       "      <td>...</td>\n",
       "      <td>...</td>\n",
       "      <td>...</td>\n",
       "      <td>...</td>\n",
       "      <td>...</td>\n",
       "      <td>...</td>\n",
       "      <td>...</td>\n",
       "      <td>...</td>\n",
       "      <td>...</td>\n",
       "      <td>...</td>\n",
       "      <td>...</td>\n",
       "      <td>...</td>\n",
       "      <td>...</td>\n",
       "      <td>...</td>\n",
       "      <td>...</td>\n",
       "      <td>...</td>\n",
       "      <td>...</td>\n",
       "      <td>...</td>\n",
       "      <td>...</td>\n",
       "      <td>...</td>\n",
       "      <td>...</td>\n",
       "      <td>...</td>\n",
       "      <td>...</td>\n",
       "    </tr>\n",
       "    <tr>\n",
       "      <th>6002</th>\n",
       "      <td>98058-MAH</td>\n",
       "      <td>Female</td>\n",
       "      <td>62</td>\n",
       "      <td>No</td>\n",
       "      <td>Maharashtra</td>\n",
       "      <td>3</td>\n",
       "      <td>21</td>\n",
       "      <td>None</td>\n",
       "      <td>Yes</td>\n",
       "      <td>Yes</td>\n",
       "      <td>No</td>\n",
       "      <td>None</td>\n",
       "      <td>No</td>\n",
       "      <td>No</td>\n",
       "      <td>No</td>\n",
       "      <td>No</td>\n",
       "      <td>No</td>\n",
       "      <td>No</td>\n",
       "      <td>No</td>\n",
       "      <td>No</td>\n",
       "      <td>One Year</td>\n",
       "      <td>No</td>\n",
       "      <td>Bank Withdrawal</td>\n",
       "      <td>24.90</td>\n",
       "      <td>1334.00</td>\n",
       "      <td>0.00</td>\n",
       "      <td>0</td>\n",
       "      <td>144.48</td>\n",
       "      <td>1478.48</td>\n",
       "      <td>Churned</td>\n",
       "      <td>Attitude</td>\n",
       "      <td>Attitude of support person</td>\n",
       "    </tr>\n",
       "    <tr>\n",
       "      <th>6003</th>\n",
       "      <td>98098-TAM</td>\n",
       "      <td>Female</td>\n",
       "      <td>73</td>\n",
       "      <td>No</td>\n",
       "      <td>Tamil Nadu</td>\n",
       "      <td>0</td>\n",
       "      <td>5</td>\n",
       "      <td>Deal 1</td>\n",
       "      <td>Yes</td>\n",
       "      <td>Yes</td>\n",
       "      <td>Yes</td>\n",
       "      <td>DSL</td>\n",
       "      <td>Yes</td>\n",
       "      <td>Yes</td>\n",
       "      <td>No</td>\n",
       "      <td>Yes</td>\n",
       "      <td>No</td>\n",
       "      <td>No</td>\n",
       "      <td>No</td>\n",
       "      <td>Yes</td>\n",
       "      <td>One Year</td>\n",
       "      <td>Yes</td>\n",
       "      <td>Credit Card</td>\n",
       "      <td>-8.00</td>\n",
       "      <td>4174.35</td>\n",
       "      <td>0.00</td>\n",
       "      <td>0</td>\n",
       "      <td>2407.68</td>\n",
       "      <td>6582.03</td>\n",
       "      <td>Stayed</td>\n",
       "      <td>Others</td>\n",
       "      <td>Others</td>\n",
       "    </tr>\n",
       "    <tr>\n",
       "      <th>6004</th>\n",
       "      <td>98120-TAM</td>\n",
       "      <td>Male</td>\n",
       "      <td>36</td>\n",
       "      <td>Yes</td>\n",
       "      <td>Tamil Nadu</td>\n",
       "      <td>14</td>\n",
       "      <td>20</td>\n",
       "      <td>None</td>\n",
       "      <td>Yes</td>\n",
       "      <td>Yes</td>\n",
       "      <td>No</td>\n",
       "      <td>None</td>\n",
       "      <td>No</td>\n",
       "      <td>No</td>\n",
       "      <td>No</td>\n",
       "      <td>No</td>\n",
       "      <td>No</td>\n",
       "      <td>No</td>\n",
       "      <td>No</td>\n",
       "      <td>No</td>\n",
       "      <td>One Year</td>\n",
       "      <td>No</td>\n",
       "      <td>Bank Withdrawal</td>\n",
       "      <td>26.20</td>\n",
       "      <td>954.90</td>\n",
       "      <td>0.00</td>\n",
       "      <td>0</td>\n",
       "      <td>1719.55</td>\n",
       "      <td>2674.45</td>\n",
       "      <td>Stayed</td>\n",
       "      <td>Others</td>\n",
       "      <td>Others</td>\n",
       "    </tr>\n",
       "    <tr>\n",
       "      <th>6005</th>\n",
       "      <td>98128-JAM</td>\n",
       "      <td>Female</td>\n",
       "      <td>43</td>\n",
       "      <td>Yes</td>\n",
       "      <td>Jammu &amp; Kashmir</td>\n",
       "      <td>0</td>\n",
       "      <td>16</td>\n",
       "      <td>None</td>\n",
       "      <td>Yes</td>\n",
       "      <td>Yes</td>\n",
       "      <td>Yes</td>\n",
       "      <td>Fiber Optic</td>\n",
       "      <td>No</td>\n",
       "      <td>No</td>\n",
       "      <td>Yes</td>\n",
       "      <td>Yes</td>\n",
       "      <td>No</td>\n",
       "      <td>No</td>\n",
       "      <td>No</td>\n",
       "      <td>Yes</td>\n",
       "      <td>One Year</td>\n",
       "      <td>No</td>\n",
       "      <td>Bank Withdrawal</td>\n",
       "      <td>86.75</td>\n",
       "      <td>1410.25</td>\n",
       "      <td>0.00</td>\n",
       "      <td>0</td>\n",
       "      <td>845.07</td>\n",
       "      <td>2255.32</td>\n",
       "      <td>Stayed</td>\n",
       "      <td>Others</td>\n",
       "      <td>Others</td>\n",
       "    </tr>\n",
       "    <tr>\n",
       "      <th>6006</th>\n",
       "      <td>98142-UTT</td>\n",
       "      <td>Female</td>\n",
       "      <td>70</td>\n",
       "      <td>No</td>\n",
       "      <td>Uttar Pradesh</td>\n",
       "      <td>3</td>\n",
       "      <td>25</td>\n",
       "      <td>None</td>\n",
       "      <td>Yes</td>\n",
       "      <td>No</td>\n",
       "      <td>Yes</td>\n",
       "      <td>Cable</td>\n",
       "      <td>No</td>\n",
       "      <td>No</td>\n",
       "      <td>Yes</td>\n",
       "      <td>Yes</td>\n",
       "      <td>Yes</td>\n",
       "      <td>No</td>\n",
       "      <td>No</td>\n",
       "      <td>Yes</td>\n",
       "      <td>One Year</td>\n",
       "      <td>No</td>\n",
       "      <td>Bank Withdrawal</td>\n",
       "      <td>64.20</td>\n",
       "      <td>2106.30</td>\n",
       "      <td>0.00</td>\n",
       "      <td>0</td>\n",
       "      <td>419.22</td>\n",
       "      <td>2525.52</td>\n",
       "      <td>Stayed</td>\n",
       "      <td>Others</td>\n",
       "      <td>Others</td>\n",
       "    </tr>\n",
       "  </tbody>\n",
       "</table>\n",
       "<p>6007 rows × 32 columns</p>\n",
       "</div>"
      ],
      "text/plain": [
       "     Customer_ID  Gender  Age Married            State  Number_of_Referrals  \\\n",
       "0      11098-MAD  Female   30     Yes   Madhya Pradesh                    0   \n",
       "1      11114-PUN    Male   51      No           Punjab                    5   \n",
       "2      11167-WES  Female   43     Yes      West Bengal                    3   \n",
       "3      11179-MAH    Male   35      No      Maharashtra                   10   \n",
       "4      11180-TAM    Male   75     Yes       Tamil Nadu                   12   \n",
       "...          ...     ...  ...     ...              ...                  ...   \n",
       "6002   98058-MAH  Female   62      No      Maharashtra                    3   \n",
       "6003   98098-TAM  Female   73      No       Tamil Nadu                    0   \n",
       "6004   98120-TAM    Male   36     Yes       Tamil Nadu                   14   \n",
       "6005   98128-JAM  Female   43     Yes  Jammu & Kashmir                    0   \n",
       "6006   98142-UTT  Female   70      No    Uttar Pradesh                    3   \n",
       "\n",
       "      Tenure_in_Months Value_Deal Phone_Service Multiple_Lines  \\\n",
       "0                   31     Deal 1           Yes             No   \n",
       "1                    9     Deal 5           Yes             No   \n",
       "2                   28     Deal 1           Yes            Yes   \n",
       "3                   12       None           Yes             No   \n",
       "4                   27     Deal 2           Yes             No   \n",
       "...                ...        ...           ...            ...   \n",
       "6002                21       None           Yes            Yes   \n",
       "6003                 5     Deal 1           Yes            Yes   \n",
       "6004                20       None           Yes            Yes   \n",
       "6005                16       None           Yes            Yes   \n",
       "6006                25       None           Yes             No   \n",
       "\n",
       "     Internet_Service Internet_Type Online_Security Online_Backup  \\\n",
       "0                 Yes   Fiber Optic             Yes           Yes   \n",
       "1                 Yes           DSL              No            No   \n",
       "2                 Yes   Fiber Optic             Yes           Yes   \n",
       "3                 Yes           DSL             Yes           Yes   \n",
       "4                 Yes           DSL             Yes            No   \n",
       "...               ...           ...             ...           ...   \n",
       "6002               No          None              No            No   \n",
       "6003              Yes           DSL             Yes           Yes   \n",
       "6004               No          None              No            No   \n",
       "6005              Yes   Fiber Optic              No            No   \n",
       "6006              Yes         Cable              No            No   \n",
       "\n",
       "     Device_Protection_Plan Premium_Support Streaming_TV Streaming_Movies  \\\n",
       "0                        No             Yes           No              Yes   \n",
       "1                       Yes              No           No               No   \n",
       "2                       Yes             Yes          Yes              Yes   \n",
       "3                       Yes             Yes          Yes              Yes   \n",
       "4                        No             Yes          Yes              Yes   \n",
       "...                     ...             ...          ...              ...   \n",
       "6002                     No              No           No               No   \n",
       "6003                     No             Yes           No               No   \n",
       "6004                     No              No           No               No   \n",
       "6005                    Yes             Yes           No               No   \n",
       "6006                    Yes             Yes          Yes               No   \n",
       "\n",
       "     Streaming_Music Unlimited_Data        Contract Paperless_Billing  \\\n",
       "0                Yes            Yes        Two Year                No   \n",
       "1                 No             No  Month-to-Month               Yes   \n",
       "2                Yes             No        Two Year               Yes   \n",
       "3                Yes            Yes        Two Year               Yes   \n",
       "4                 No             No        Two Year               Yes   \n",
       "...              ...            ...             ...               ...   \n",
       "6002              No             No        One Year                No   \n",
       "6003              No            Yes        One Year               Yes   \n",
       "6004              No             No        One Year                No   \n",
       "6005              No            Yes        One Year                No   \n",
       "6006              No            Yes        One Year                No   \n",
       "\n",
       "       Payment_Method  Monthly_Charge  Total_Charges  Total_Refunds  \\\n",
       "0     Bank Withdrawal           95.10        6683.40           0.00   \n",
       "1     Bank Withdrawal           49.15         169.05           0.00   \n",
       "2     Bank Withdrawal          116.05        8297.50          42.57   \n",
       "3         Credit Card           84.40        5969.30           0.00   \n",
       "4         Credit Card           72.60        4084.35           0.00   \n",
       "...               ...             ...            ...            ...   \n",
       "6002  Bank Withdrawal           24.90        1334.00           0.00   \n",
       "6003      Credit Card           -8.00        4174.35           0.00   \n",
       "6004  Bank Withdrawal           26.20         954.90           0.00   \n",
       "6005  Bank Withdrawal           86.75        1410.25           0.00   \n",
       "6006  Bank Withdrawal           64.20        2106.30           0.00   \n",
       "\n",
       "      Total_Extra_Data_Charges  Total_Long_Distance_Charges  Total_Revenue  \\\n",
       "0                            0                       631.72        7315.12   \n",
       "1                           10                       122.37         301.42   \n",
       "2                          110                      1872.98       10237.91   \n",
       "3                            0                       219.39        6188.69   \n",
       "4                          140                       332.08        4556.43   \n",
       "...                        ...                          ...            ...   \n",
       "6002                         0                       144.48        1478.48   \n",
       "6003                         0                      2407.68        6582.03   \n",
       "6004                         0                      1719.55        2674.45   \n",
       "6005                         0                       845.07        2255.32   \n",
       "6006                         0                       419.22        2525.52   \n",
       "\n",
       "     Customer_Status Churn_Category                   Churn_Reason  \n",
       "0             Stayed         Others                         Others  \n",
       "1            Churned     Competitor  Competitor had better devices  \n",
       "2             Stayed         Others                         Others  \n",
       "3             Stayed         Others                         Others  \n",
       "4             Stayed         Others                         Others  \n",
       "...              ...            ...                            ...  \n",
       "6002         Churned       Attitude     Attitude of support person  \n",
       "6003          Stayed         Others                         Others  \n",
       "6004          Stayed         Others                         Others  \n",
       "6005          Stayed         Others                         Others  \n",
       "6006          Stayed         Others                         Others  \n",
       "\n",
       "[6007 rows x 32 columns]"
      ]
     },
     "execution_count": 6,
     "metadata": {},
     "output_type": "execute_result"
    }
   ],
   "source": [
    "pd.set_option('display.max_columns', None)\n",
    "data"
   ]
  },
  {
   "cell_type": "code",
   "execution_count": 7,
   "metadata": {},
   "outputs": [
    {
     "data": {
      "text/plain": [
       "(6007, 32)"
      ]
     },
     "execution_count": 7,
     "metadata": {},
     "output_type": "execute_result"
    }
   ],
   "source": [
    "data.shape"
   ]
  },
  {
   "cell_type": "code",
   "execution_count": 8,
   "metadata": {},
   "outputs": [
    {
     "data": {
      "text/plain": [
       "<bound method DataFrame.info of      Customer_ID  Gender  Age Married            State  Number_of_Referrals  \\\n",
       "0      11098-MAD  Female   30     Yes   Madhya Pradesh                    0   \n",
       "1      11114-PUN    Male   51      No           Punjab                    5   \n",
       "2      11167-WES  Female   43     Yes      West Bengal                    3   \n",
       "3      11179-MAH    Male   35      No      Maharashtra                   10   \n",
       "4      11180-TAM    Male   75     Yes       Tamil Nadu                   12   \n",
       "...          ...     ...  ...     ...              ...                  ...   \n",
       "6002   98058-MAH  Female   62      No      Maharashtra                    3   \n",
       "6003   98098-TAM  Female   73      No       Tamil Nadu                    0   \n",
       "6004   98120-TAM    Male   36     Yes       Tamil Nadu                   14   \n",
       "6005   98128-JAM  Female   43     Yes  Jammu & Kashmir                    0   \n",
       "6006   98142-UTT  Female   70      No    Uttar Pradesh                    3   \n",
       "\n",
       "      Tenure_in_Months Value_Deal Phone_Service Multiple_Lines  \\\n",
       "0                   31     Deal 1           Yes             No   \n",
       "1                    9     Deal 5           Yes             No   \n",
       "2                   28     Deal 1           Yes            Yes   \n",
       "3                   12       None           Yes             No   \n",
       "4                   27     Deal 2           Yes             No   \n",
       "...                ...        ...           ...            ...   \n",
       "6002                21       None           Yes            Yes   \n",
       "6003                 5     Deal 1           Yes            Yes   \n",
       "6004                20       None           Yes            Yes   \n",
       "6005                16       None           Yes            Yes   \n",
       "6006                25       None           Yes             No   \n",
       "\n",
       "     Internet_Service Internet_Type Online_Security Online_Backup  \\\n",
       "0                 Yes   Fiber Optic             Yes           Yes   \n",
       "1                 Yes           DSL              No            No   \n",
       "2                 Yes   Fiber Optic             Yes           Yes   \n",
       "3                 Yes           DSL             Yes           Yes   \n",
       "4                 Yes           DSL             Yes            No   \n",
       "...               ...           ...             ...           ...   \n",
       "6002               No          None              No            No   \n",
       "6003              Yes           DSL             Yes           Yes   \n",
       "6004               No          None              No            No   \n",
       "6005              Yes   Fiber Optic              No            No   \n",
       "6006              Yes         Cable              No            No   \n",
       "\n",
       "     Device_Protection_Plan Premium_Support Streaming_TV Streaming_Movies  \\\n",
       "0                        No             Yes           No              Yes   \n",
       "1                       Yes              No           No               No   \n",
       "2                       Yes             Yes          Yes              Yes   \n",
       "3                       Yes             Yes          Yes              Yes   \n",
       "4                        No             Yes          Yes              Yes   \n",
       "...                     ...             ...          ...              ...   \n",
       "6002                     No              No           No               No   \n",
       "6003                     No             Yes           No               No   \n",
       "6004                     No              No           No               No   \n",
       "6005                    Yes             Yes           No               No   \n",
       "6006                    Yes             Yes          Yes               No   \n",
       "\n",
       "     Streaming_Music Unlimited_Data        Contract Paperless_Billing  \\\n",
       "0                Yes            Yes        Two Year                No   \n",
       "1                 No             No  Month-to-Month               Yes   \n",
       "2                Yes             No        Two Year               Yes   \n",
       "3                Yes            Yes        Two Year               Yes   \n",
       "4                 No             No        Two Year               Yes   \n",
       "...              ...            ...             ...               ...   \n",
       "6002              No             No        One Year                No   \n",
       "6003              No            Yes        One Year               Yes   \n",
       "6004              No             No        One Year                No   \n",
       "6005              No            Yes        One Year                No   \n",
       "6006              No            Yes        One Year                No   \n",
       "\n",
       "       Payment_Method  Monthly_Charge  Total_Charges  Total_Refunds  \\\n",
       "0     Bank Withdrawal           95.10        6683.40           0.00   \n",
       "1     Bank Withdrawal           49.15         169.05           0.00   \n",
       "2     Bank Withdrawal          116.05        8297.50          42.57   \n",
       "3         Credit Card           84.40        5969.30           0.00   \n",
       "4         Credit Card           72.60        4084.35           0.00   \n",
       "...               ...             ...            ...            ...   \n",
       "6002  Bank Withdrawal           24.90        1334.00           0.00   \n",
       "6003      Credit Card           -8.00        4174.35           0.00   \n",
       "6004  Bank Withdrawal           26.20         954.90           0.00   \n",
       "6005  Bank Withdrawal           86.75        1410.25           0.00   \n",
       "6006  Bank Withdrawal           64.20        2106.30           0.00   \n",
       "\n",
       "      Total_Extra_Data_Charges  Total_Long_Distance_Charges  Total_Revenue  \\\n",
       "0                            0                       631.72        7315.12   \n",
       "1                           10                       122.37         301.42   \n",
       "2                          110                      1872.98       10237.91   \n",
       "3                            0                       219.39        6188.69   \n",
       "4                          140                       332.08        4556.43   \n",
       "...                        ...                          ...            ...   \n",
       "6002                         0                       144.48        1478.48   \n",
       "6003                         0                      2407.68        6582.03   \n",
       "6004                         0                      1719.55        2674.45   \n",
       "6005                         0                       845.07        2255.32   \n",
       "6006                         0                       419.22        2525.52   \n",
       "\n",
       "     Customer_Status Churn_Category                   Churn_Reason  \n",
       "0             Stayed         Others                         Others  \n",
       "1            Churned     Competitor  Competitor had better devices  \n",
       "2             Stayed         Others                         Others  \n",
       "3             Stayed         Others                         Others  \n",
       "4             Stayed         Others                         Others  \n",
       "...              ...            ...                            ...  \n",
       "6002         Churned       Attitude     Attitude of support person  \n",
       "6003          Stayed         Others                         Others  \n",
       "6004          Stayed         Others                         Others  \n",
       "6005          Stayed         Others                         Others  \n",
       "6006          Stayed         Others                         Others  \n",
       "\n",
       "[6007 rows x 32 columns]>"
      ]
     },
     "execution_count": 8,
     "metadata": {},
     "output_type": "execute_result"
    }
   ],
   "source": [
    "data.info"
   ]
  },
  {
   "cell_type": "code",
   "execution_count": 9,
   "metadata": {},
   "outputs": [
    {
     "name": "stdout",
     "output_type": "stream",
     "text": [
      "Index(['Customer_ID', 'Gender', 'Age', 'Married', 'State',\n",
      "       'Number_of_Referrals', 'Tenure_in_Months', 'Value_Deal',\n",
      "       'Phone_Service', 'Multiple_Lines', 'Internet_Service', 'Internet_Type',\n",
      "       'Online_Security', 'Online_Backup', 'Device_Protection_Plan',\n",
      "       'Premium_Support', 'Streaming_TV', 'Streaming_Movies',\n",
      "       'Streaming_Music', 'Unlimited_Data', 'Contract', 'Paperless_Billing',\n",
      "       'Payment_Method', 'Monthly_Charge', 'Total_Charges', 'Total_Refunds',\n",
      "       'Total_Extra_Data_Charges', 'Total_Long_Distance_Charges',\n",
      "       'Total_Revenue', 'Customer_Status', 'Churn_Category', 'Churn_Reason'],\n",
      "      dtype='object')\n"
     ]
    }
   ],
   "source": [
    "print(data.columns)"
   ]
  },
  {
   "cell_type": "code",
   "execution_count": 10,
   "metadata": {},
   "outputs": [
    {
     "data": {
      "text/html": [
       "<div>\n",
       "<style scoped>\n",
       "    .dataframe tbody tr th:only-of-type {\n",
       "        vertical-align: middle;\n",
       "    }\n",
       "\n",
       "    .dataframe tbody tr th {\n",
       "        vertical-align: top;\n",
       "    }\n",
       "\n",
       "    .dataframe thead th {\n",
       "        text-align: right;\n",
       "    }\n",
       "</style>\n",
       "<table border=\"1\" class=\"dataframe\">\n",
       "  <thead>\n",
       "    <tr style=\"text-align: right;\">\n",
       "      <th></th>\n",
       "      <th>Age</th>\n",
       "      <th>Number_of_Referrals</th>\n",
       "      <th>Tenure_in_Months</th>\n",
       "      <th>Monthly_Charge</th>\n",
       "      <th>Total_Charges</th>\n",
       "      <th>Total_Refunds</th>\n",
       "      <th>Total_Extra_Data_Charges</th>\n",
       "      <th>Total_Long_Distance_Charges</th>\n",
       "      <th>Total_Revenue</th>\n",
       "    </tr>\n",
       "  </thead>\n",
       "  <tbody>\n",
       "    <tr>\n",
       "      <th>count</th>\n",
       "      <td>6007.000000</td>\n",
       "      <td>6007.000000</td>\n",
       "      <td>6007.00000</td>\n",
       "      <td>6007.000000</td>\n",
       "      <td>6007.000000</td>\n",
       "      <td>6007.000000</td>\n",
       "      <td>6007.000000</td>\n",
       "      <td>6007.000000</td>\n",
       "      <td>6007.000000</td>\n",
       "    </tr>\n",
       "    <tr>\n",
       "      <th>mean</th>\n",
       "      <td>47.289163</td>\n",
       "      <td>7.439820</td>\n",
       "      <td>17.39454</td>\n",
       "      <td>65.087598</td>\n",
       "      <td>2430.986173</td>\n",
       "      <td>2.038612</td>\n",
       "      <td>7.015149</td>\n",
       "      <td>797.283311</td>\n",
       "      <td>3233.246021</td>\n",
       "    </tr>\n",
       "    <tr>\n",
       "      <th>std</th>\n",
       "      <td>16.805110</td>\n",
       "      <td>4.622369</td>\n",
       "      <td>10.59292</td>\n",
       "      <td>31.067808</td>\n",
       "      <td>2267.481294</td>\n",
       "      <td>8.065520</td>\n",
       "      <td>25.405737</td>\n",
       "      <td>854.858841</td>\n",
       "      <td>2856.181082</td>\n",
       "    </tr>\n",
       "    <tr>\n",
       "      <th>min</th>\n",
       "      <td>18.000000</td>\n",
       "      <td>0.000000</td>\n",
       "      <td>1.00000</td>\n",
       "      <td>-10.000000</td>\n",
       "      <td>19.100000</td>\n",
       "      <td>0.000000</td>\n",
       "      <td>0.000000</td>\n",
       "      <td>0.000000</td>\n",
       "      <td>21.610000</td>\n",
       "    </tr>\n",
       "    <tr>\n",
       "      <th>25%</th>\n",
       "      <td>33.000000</td>\n",
       "      <td>3.000000</td>\n",
       "      <td>8.00000</td>\n",
       "      <td>35.950000</td>\n",
       "      <td>539.950000</td>\n",
       "      <td>0.000000</td>\n",
       "      <td>0.000000</td>\n",
       "      <td>107.085000</td>\n",
       "      <td>833.685000</td>\n",
       "    </tr>\n",
       "    <tr>\n",
       "      <th>50%</th>\n",
       "      <td>47.000000</td>\n",
       "      <td>7.000000</td>\n",
       "      <td>17.00000</td>\n",
       "      <td>71.100000</td>\n",
       "      <td>1556.850000</td>\n",
       "      <td>0.000000</td>\n",
       "      <td>0.000000</td>\n",
       "      <td>470.220000</td>\n",
       "      <td>2367.150000</td>\n",
       "    </tr>\n",
       "    <tr>\n",
       "      <th>75%</th>\n",
       "      <td>60.000000</td>\n",
       "      <td>11.000000</td>\n",
       "      <td>27.00000</td>\n",
       "      <td>90.450000</td>\n",
       "      <td>4013.900000</td>\n",
       "      <td>0.000000</td>\n",
       "      <td>0.000000</td>\n",
       "      <td>1269.840000</td>\n",
       "      <td>5105.685000</td>\n",
       "    </tr>\n",
       "    <tr>\n",
       "      <th>max</th>\n",
       "      <td>84.000000</td>\n",
       "      <td>15.000000</td>\n",
       "      <td>36.00000</td>\n",
       "      <td>118.750000</td>\n",
       "      <td>8684.800000</td>\n",
       "      <td>49.790000</td>\n",
       "      <td>150.000000</td>\n",
       "      <td>3564.720000</td>\n",
       "      <td>11979.340000</td>\n",
       "    </tr>\n",
       "  </tbody>\n",
       "</table>\n",
       "</div>"
      ],
      "text/plain": [
       "               Age  Number_of_Referrals  Tenure_in_Months  Monthly_Charge  \\\n",
       "count  6007.000000          6007.000000        6007.00000     6007.000000   \n",
       "mean     47.289163             7.439820          17.39454       65.087598   \n",
       "std      16.805110             4.622369          10.59292       31.067808   \n",
       "min      18.000000             0.000000           1.00000      -10.000000   \n",
       "25%      33.000000             3.000000           8.00000       35.950000   \n",
       "50%      47.000000             7.000000          17.00000       71.100000   \n",
       "75%      60.000000            11.000000          27.00000       90.450000   \n",
       "max      84.000000            15.000000          36.00000      118.750000   \n",
       "\n",
       "       Total_Charges  Total_Refunds  Total_Extra_Data_Charges  \\\n",
       "count    6007.000000    6007.000000               6007.000000   \n",
       "mean     2430.986173       2.038612                  7.015149   \n",
       "std      2267.481294       8.065520                 25.405737   \n",
       "min        19.100000       0.000000                  0.000000   \n",
       "25%       539.950000       0.000000                  0.000000   \n",
       "50%      1556.850000       0.000000                  0.000000   \n",
       "75%      4013.900000       0.000000                  0.000000   \n",
       "max      8684.800000      49.790000                150.000000   \n",
       "\n",
       "       Total_Long_Distance_Charges  Total_Revenue  \n",
       "count                  6007.000000    6007.000000  \n",
       "mean                    797.283311    3233.246021  \n",
       "std                     854.858841    2856.181082  \n",
       "min                       0.000000      21.610000  \n",
       "25%                     107.085000     833.685000  \n",
       "50%                     470.220000    2367.150000  \n",
       "75%                    1269.840000    5105.685000  \n",
       "max                    3564.720000   11979.340000  "
      ]
     },
     "execution_count": 10,
     "metadata": {},
     "output_type": "execute_result"
    }
   ],
   "source": [
    "data.describe()"
   ]
  },
  {
   "cell_type": "code",
   "execution_count": 11,
   "metadata": {},
   "outputs": [
    {
     "data": {
      "image/png": "[encoded data removed]",
      "text/plain": [
       "<Figure size 1000x600 with 1 Axes>"
      ]
     },
     "metadata": {},
     "output_type": "display_data"
    }
   ],
   "source": [
    "# Visualizing the missing values using a heatmap\n",
    "plt.figure(figsize=(10, 6))\n",
    "sns.heatmap(data.isnull(), cbar=False, cmap='viridis')\n",
    "plt.title(\"Missing Values in the Dataset\")\n",
    "plt.show()"
   ]
  },
  {
   "cell_type": "code",
   "execution_count": 12,
   "metadata": {},
   "outputs": [
    {
     "data": {
      "image/png": "[encoded data removed]",
      "text/plain": [
       "<Figure size 800x500 with 1 Axes>"
      ]
     },
     "metadata": {},
     "output_type": "display_data"
    }
   ],
   "source": [
    "# Visualizing distribution of a specific numeric column (e.g., Age)\n",
    "plt.figure(figsize=(8, 5))\n",
    "sns.histplot(data['Age'], kde=True, bins=30)\n",
    "plt.title(\"Distribution of Age\")\n",
    "plt.show()"
   ]
  },
  {
   "cell_type": "code",
   "execution_count": 13,
   "metadata": {},
   "outputs": [
    {
     "data": {
      "image/png": "[encoded data removed]",
      "text/plain": [
       "<Figure size 1000x600 with 1 Axes>"
      ]
     },
     "metadata": {},
     "output_type": "display_data"
    }
   ],
   "source": [
    "# 7. Churn Rate by Payment Method\n",
    "plt.figure(figsize=(10, 6))\n",
    "sns.countplot(x='Payment_Method', hue='Customer_Status', data=data)\n",
    "plt.title(\"Churn Rate by Payment Method\")\n",
    "plt.ylabel(\"Number of Customers\")\n",
    "plt.xlabel(\"Payment Method\")\n",
    "plt.xticks(rotation=45)\n",
    "plt.legend(title='Customer Status')\n",
    "plt.show()"
   ]
  },
  {
   "cell_type": "code",
   "execution_count": 14,
   "metadata": {},
   "outputs": [
    {
     "data": {
      "image/png": "[encoded data removed]",
      "text/plain": [
       "<Figure size 800x500 with 1 Axes>"
      ]
     },
     "metadata": {},
     "output_type": "display_data"
    }
   ],
   "source": [
    "# 1. Count of customers by Gender\n",
    "plt.figure(figsize=(8, 5))\n",
    "sns.countplot(x='Gender', data=data)\n",
    "plt.title(\"Count of Customers by Gender\")\n",
    "plt.ylabel(\"Number of Customers\")\n",
    "plt.xlabel(\"Gender\")\n",
    "plt.show()"
   ]
  },
  {
   "cell_type": "code",
   "execution_count": 15,
   "metadata": {},
   "outputs": [
    {
     "data": {
      "image/png": "[encoded data removed]",
      "text/plain": [
       "<Figure size 800x500 with 1 Axes>"
      ]
     },
     "metadata": {},
     "output_type": "display_data"
    }
   ],
   "source": [
    "# Visualizing the churn category distribution\n",
    "plt.figure(figsize=(8, 5))\n",
    "sns.countplot(x='Customer_Status', data= data)\n",
    "plt.title(\"Churn Category Distribution\")\n",
    "plt.xticks(rotation=45)\n",
    "plt.show()"
   ]
  },
  {
   "cell_type": "markdown",
   "metadata": {},
   "source": [
    "# Data Preprocessing"
   ]
  },
  {
   "cell_type": "code",
   "execution_count": 16,
   "metadata": {},
   "outputs": [],
   "source": [
    "# Drop columns that won't be used for prediction\n",
    "data = data.drop(['Customer_ID','Churn_Category','Churn_Reason'], axis=1)\n",
    "\n",
    "\n",
    "# List of columns to be label encoded it mean that change all catorigal columns to numerical value one time to avoid do it manual\n",
    "columns_to_encode = [\n",
    "    'Gender', 'Married', 'State', 'Value_Deal', 'Multiple_Lines',\n",
    "    'Internet_Service', 'Internet_Type', 'Online_Security', 'Online_Backup',\n",
    "    'Device_Protection_Plan', 'Premium_Support', 'Streaming_TV', \n",
    "    'Streaming_Music', 'Contract', 'Paperless_Billing',\n",
    "    'Payment_Method', 'Phone_Service', 'Unlimited_Data','Streaming_Movies'\n",
    "]\n",
    "# Encode categorical variables except the target variable\n",
    "label_encoders = {}\n",
    "for column in columns_to_encode:\n",
    "    label_encoders[column] = LabelEncoder()\n",
    "    data[column] = label_encoders[column].fit_transform(data[column])"
   ]
  },
  {
   "cell_type": "code",
   "execution_count": 17,
   "metadata": {},
   "outputs": [
    {
     "data": {
      "text/html": [
       "<div>\n",
       "<style scoped>\n",
       "    .dataframe tbody tr th:only-of-type {\n",
       "        vertical-align: middle;\n",
       "    }\n",
       "\n",
       "    .dataframe tbody tr th {\n",
       "        vertical-align: top;\n",
       "    }\n",
       "\n",
       "    .dataframe thead th {\n",
       "        text-align: right;\n",
       "    }\n",
       "</style>\n",
       "<table border=\"1\" class=\"dataframe\">\n",
       "  <thead>\n",
       "    <tr style=\"text-align: right;\">\n",
       "      <th></th>\n",
       "      <th>Gender</th>\n",
       "      <th>Age</th>\n",
       "      <th>Married</th>\n",
       "      <th>State</th>\n",
       "      <th>Number_of_Referrals</th>\n",
       "      <th>Tenure_in_Months</th>\n",
       "      <th>Value_Deal</th>\n",
       "      <th>Phone_Service</th>\n",
       "      <th>Multiple_Lines</th>\n",
       "      <th>Internet_Service</th>\n",
       "      <th>Internet_Type</th>\n",
       "      <th>Online_Security</th>\n",
       "      <th>Online_Backup</th>\n",
       "      <th>Device_Protection_Plan</th>\n",
       "      <th>Premium_Support</th>\n",
       "      <th>Streaming_TV</th>\n",
       "      <th>Streaming_Movies</th>\n",
       "      <th>Streaming_Music</th>\n",
       "      <th>Unlimited_Data</th>\n",
       "      <th>Contract</th>\n",
       "      <th>Paperless_Billing</th>\n",
       "      <th>Payment_Method</th>\n",
       "      <th>Monthly_Charge</th>\n",
       "      <th>Total_Charges</th>\n",
       "      <th>Total_Refunds</th>\n",
       "      <th>Total_Extra_Data_Charges</th>\n",
       "      <th>Total_Long_Distance_Charges</th>\n",
       "      <th>Total_Revenue</th>\n",
       "      <th>Customer_Status</th>\n",
       "    </tr>\n",
       "  </thead>\n",
       "  <tbody>\n",
       "    <tr>\n",
       "      <th>0</th>\n",
       "      <td>0</td>\n",
       "      <td>30</td>\n",
       "      <td>1</td>\n",
       "      <td>11</td>\n",
       "      <td>0</td>\n",
       "      <td>31</td>\n",
       "      <td>0</td>\n",
       "      <td>1</td>\n",
       "      <td>0</td>\n",
       "      <td>1</td>\n",
       "      <td>2</td>\n",
       "      <td>1</td>\n",
       "      <td>1</td>\n",
       "      <td>0</td>\n",
       "      <td>1</td>\n",
       "      <td>0</td>\n",
       "      <td>1</td>\n",
       "      <td>1</td>\n",
       "      <td>1</td>\n",
       "      <td>2</td>\n",
       "      <td>0</td>\n",
       "      <td>0</td>\n",
       "      <td>95.10</td>\n",
       "      <td>6683.40</td>\n",
       "      <td>0.00</td>\n",
       "      <td>0</td>\n",
       "      <td>631.72</td>\n",
       "      <td>7315.12</td>\n",
       "      <td>Stayed</td>\n",
       "    </tr>\n",
       "    <tr>\n",
       "      <th>1</th>\n",
       "      <td>1</td>\n",
       "      <td>51</td>\n",
       "      <td>0</td>\n",
       "      <td>15</td>\n",
       "      <td>5</td>\n",
       "      <td>9</td>\n",
       "      <td>4</td>\n",
       "      <td>1</td>\n",
       "      <td>0</td>\n",
       "      <td>1</td>\n",
       "      <td>1</td>\n",
       "      <td>0</td>\n",
       "      <td>0</td>\n",
       "      <td>1</td>\n",
       "      <td>0</td>\n",
       "      <td>0</td>\n",
       "      <td>0</td>\n",
       "      <td>0</td>\n",
       "      <td>0</td>\n",
       "      <td>0</td>\n",
       "      <td>1</td>\n",
       "      <td>0</td>\n",
       "      <td>49.15</td>\n",
       "      <td>169.05</td>\n",
       "      <td>0.00</td>\n",
       "      <td>10</td>\n",
       "      <td>122.37</td>\n",
       "      <td>301.42</td>\n",
       "      <td>Churned</td>\n",
       "    </tr>\n",
       "    <tr>\n",
       "      <th>2</th>\n",
       "      <td>0</td>\n",
       "      <td>43</td>\n",
       "      <td>1</td>\n",
       "      <td>21</td>\n",
       "      <td>3</td>\n",
       "      <td>28</td>\n",
       "      <td>0</td>\n",
       "      <td>1</td>\n",
       "      <td>1</td>\n",
       "      <td>1</td>\n",
       "      <td>2</td>\n",
       "      <td>1</td>\n",
       "      <td>1</td>\n",
       "      <td>1</td>\n",
       "      <td>1</td>\n",
       "      <td>1</td>\n",
       "      <td>1</td>\n",
       "      <td>1</td>\n",
       "      <td>0</td>\n",
       "      <td>2</td>\n",
       "      <td>1</td>\n",
       "      <td>0</td>\n",
       "      <td>116.05</td>\n",
       "      <td>8297.50</td>\n",
       "      <td>42.57</td>\n",
       "      <td>110</td>\n",
       "      <td>1872.98</td>\n",
       "      <td>10237.91</td>\n",
       "      <td>Stayed</td>\n",
       "    </tr>\n",
       "    <tr>\n",
       "      <th>3</th>\n",
       "      <td>1</td>\n",
       "      <td>35</td>\n",
       "      <td>0</td>\n",
       "      <td>12</td>\n",
       "      <td>10</td>\n",
       "      <td>12</td>\n",
       "      <td>5</td>\n",
       "      <td>1</td>\n",
       "      <td>0</td>\n",
       "      <td>1</td>\n",
       "      <td>1</td>\n",
       "      <td>1</td>\n",
       "      <td>1</td>\n",
       "      <td>1</td>\n",
       "      <td>1</td>\n",
       "      <td>1</td>\n",
       "      <td>1</td>\n",
       "      <td>1</td>\n",
       "      <td>1</td>\n",
       "      <td>2</td>\n",
       "      <td>1</td>\n",
       "      <td>1</td>\n",
       "      <td>84.40</td>\n",
       "      <td>5969.30</td>\n",
       "      <td>0.00</td>\n",
       "      <td>0</td>\n",
       "      <td>219.39</td>\n",
       "      <td>6188.69</td>\n",
       "      <td>Stayed</td>\n",
       "    </tr>\n",
       "    <tr>\n",
       "      <th>4</th>\n",
       "      <td>1</td>\n",
       "      <td>75</td>\n",
       "      <td>1</td>\n",
       "      <td>17</td>\n",
       "      <td>12</td>\n",
       "      <td>27</td>\n",
       "      <td>1</td>\n",
       "      <td>1</td>\n",
       "      <td>0</td>\n",
       "      <td>1</td>\n",
       "      <td>1</td>\n",
       "      <td>1</td>\n",
       "      <td>0</td>\n",
       "      <td>0</td>\n",
       "      <td>1</td>\n",
       "      <td>1</td>\n",
       "      <td>1</td>\n",
       "      <td>0</td>\n",
       "      <td>0</td>\n",
       "      <td>2</td>\n",
       "      <td>1</td>\n",
       "      <td>1</td>\n",
       "      <td>72.60</td>\n",
       "      <td>4084.35</td>\n",
       "      <td>0.00</td>\n",
       "      <td>140</td>\n",
       "      <td>332.08</td>\n",
       "      <td>4556.43</td>\n",
       "      <td>Stayed</td>\n",
       "    </tr>\n",
       "  </tbody>\n",
       "</table>\n",
       "</div>"
      ],
      "text/plain": [
       "   Gender  Age  Married  State  Number_of_Referrals  Tenure_in_Months  \\\n",
       "0       0   30        1     11                    0                31   \n",
       "1       1   51        0     15                    5                 9   \n",
       "2       0   43        1     21                    3                28   \n",
       "3       1   35        0     12                   10                12   \n",
       "4       1   75        1     17                   12                27   \n",
       "\n",
       "   Value_Deal  Phone_Service  Multiple_Lines  Internet_Service  Internet_Type  \\\n",
       "0           0              1               0                 1              2   \n",
       "1           4              1               0                 1              1   \n",
       "2           0              1               1                 1              2   \n",
       "3           5              1               0                 1              1   \n",
       "4           1              1               0                 1              1   \n",
       "\n",
       "   Online_Security  Online_Backup  Device_Protection_Plan  Premium_Support  \\\n",
       "0                1              1                       0                1   \n",
       "1                0              0                       1                0   \n",
       "2                1              1                       1                1   \n",
       "3                1              1                       1                1   \n",
       "4                1              0                       0                1   \n",
       "\n",
       "   Streaming_TV  Streaming_Movies  Streaming_Music  Unlimited_Data  Contract  \\\n",
       "0             0                 1                1               1         2   \n",
       "1             0                 0                0               0         0   \n",
       "2             1                 1                1               0         2   \n",
       "3             1                 1                1               1         2   \n",
       "4             1                 1                0               0         2   \n",
       "\n",
       "   Paperless_Billing  Payment_Method  Monthly_Charge  Total_Charges  \\\n",
       "0                  0               0           95.10        6683.40   \n",
       "1                  1               0           49.15         169.05   \n",
       "2                  1               0          116.05        8297.50   \n",
       "3                  1               1           84.40        5969.30   \n",
       "4                  1               1           72.60        4084.35   \n",
       "\n",
       "   Total_Refunds  Total_Extra_Data_Charges  Total_Long_Distance_Charges  \\\n",
       "0           0.00                         0                       631.72   \n",
       "1           0.00                        10                       122.37   \n",
       "2          42.57                       110                      1872.98   \n",
       "3           0.00                         0                       219.39   \n",
       "4           0.00                       140                       332.08   \n",
       "\n",
       "   Total_Revenue Customer_Status  \n",
       "0        7315.12          Stayed  \n",
       "1         301.42         Churned  \n",
       "2       10237.91          Stayed  \n",
       "3        6188.69          Stayed  \n",
       "4        4556.43          Stayed  "
      ]
     },
     "execution_count": 17,
     "metadata": {},
     "output_type": "execute_result"
    }
   ],
   "source": [
    "data.head()"
   ]
  },
  {
   "cell_type": "code",
   "execution_count": 18,
   "metadata": {},
   "outputs": [
    {
     "data": {
      "text/plain": [
       "(6007, 29)"
      ]
     },
     "execution_count": 18,
     "metadata": {},
     "output_type": "execute_result"
    }
   ],
   "source": [
    "data.shape"
   ]
  },
  {
   "cell_type": "code",
   "execution_count": 19,
   "metadata": {},
   "outputs": [
    {
     "data": {
      "text/plain": [
       "Gender                         0\n",
       "Age                            0\n",
       "Married                        0\n",
       "State                          0\n",
       "Number_of_Referrals            0\n",
       "Tenure_in_Months               0\n",
       "Value_Deal                     0\n",
       "Phone_Service                  0\n",
       "Multiple_Lines                 0\n",
       "Internet_Service               0\n",
       "Internet_Type                  0\n",
       "Online_Security                0\n",
       "Online_Backup                  0\n",
       "Device_Protection_Plan         0\n",
       "Premium_Support                0\n",
       "Streaming_TV                   0\n",
       "Streaming_Movies               0\n",
       "Streaming_Music                0\n",
       "Unlimited_Data                 0\n",
       "Contract                       0\n",
       "Paperless_Billing              0\n",
       "Payment_Method                 0\n",
       "Monthly_Charge                 0\n",
       "Total_Charges                  0\n",
       "Total_Refunds                  0\n",
       "Total_Extra_Data_Charges       0\n",
       "Total_Long_Distance_Charges    0\n",
       "Total_Revenue                  0\n",
       "Customer_Status                0\n",
       "dtype: int64"
      ]
     },
     "execution_count": 19,
     "metadata": {},
     "output_type": "execute_result"
    }
   ],
   "source": [
    "data.isnull().sum()\n",
    "# no missing value "
   ]
  },
  {
   "cell_type": "code",
   "execution_count": 20,
   "metadata": {},
   "outputs": [
    {
     "name": "stdout",
     "output_type": "stream",
     "text": [
      "<class 'pandas.core.frame.DataFrame'>\n",
      "RangeIndex: 6007 entries, 0 to 6006\n",
      "Data columns (total 29 columns):\n",
      " #   Column                       Non-Null Count  Dtype  \n",
      "---  ------                       --------------  -----  \n",
      " 0   Gender                       6007 non-null   int32  \n",
      " 1   Age                          6007 non-null   int64  \n",
      " 2   Married                      6007 non-null   int32  \n",
      " 3   State                        6007 non-null   int32  \n",
      " 4   Number_of_Referrals          6007 non-null   int64  \n",
      " 5   Tenure_in_Months             6007 non-null   int64  \n",
      " 6   Value_Deal                   6007 non-null   int32  \n",
      " 7   Phone_Service                6007 non-null   int32  \n",
      " 8   Multiple_Lines               6007 non-null   int32  \n",
      " 9   Internet_Service             6007 non-null   int32  \n",
      " 10  Internet_Type                6007 non-null   int32  \n",
      " 11  Online_Security              6007 non-null   int32  \n",
      " 12  Online_Backup                6007 non-null   int32  \n",
      " 13  Device_Protection_Plan       6007 non-null   int32  \n",
      " 14  Premium_Support              6007 non-null   int32  \n",
      " 15  Streaming_TV                 6007 non-null   int32  \n",
      " 16  Streaming_Movies             6007 non-null   int32  \n",
      " 17  Streaming_Music              6007 non-null   int32  \n",
      " 18  Unlimited_Data               6007 non-null   int32  \n",
      " 19  Contract                     6007 non-null   int32  \n",
      " 20  Paperless_Billing            6007 non-null   int32  \n",
      " 21  Payment_Method               6007 non-null   int32  \n",
      " 22  Monthly_Charge               6007 non-null   float64\n",
      " 23  Total_Charges                6007 non-null   float64\n",
      " 24  Total_Refunds                6007 non-null   float64\n",
      " 25  Total_Extra_Data_Charges     6007 non-null   int64  \n",
      " 26  Total_Long_Distance_Charges  6007 non-null   float64\n",
      " 27  Total_Revenue                6007 non-null   float64\n",
      " 28  Customer_Status              6007 non-null   object \n",
      "dtypes: float64(5), int32(19), int64(4), object(1)\n",
      "memory usage: 915.3+ KB\n"
     ]
    }
   ],
   "source": [
    "data.info()"
   ]
  },
  {
   "cell_type": "code",
   "execution_count": 21,
   "metadata": {},
   "outputs": [
    {
     "data": {
      "text/plain": [
       "False"
      ]
     },
     "execution_count": 21,
     "metadata": {},
     "output_type": "execute_result"
    }
   ],
   "source": [
    "# check duplication \n",
    "data.duplicated().any()"
   ]
  },
  {
   "cell_type": "code",
   "execution_count": 22,
   "metadata": {},
   "outputs": [
    {
     "data": {
      "text/plain": [
       "Stayed     4275\n",
       "Churned    1732\n",
       "Name: Customer_Status, dtype: int64"
      ]
     },
     "execution_count": 22,
     "metadata": {},
     "output_type": "execute_result"
    }
   ],
   "source": [
    "# check Customer status \n",
    "data.Customer_Status.value_counts()"
   ]
  },
  {
   "cell_type": "code",
   "execution_count": 23,
   "metadata": {},
   "outputs": [
    {
     "data": {
      "text/plain": [
       "0    3779\n",
       "1    2228\n",
       "Name: Gender, dtype: int64"
      ]
     },
     "execution_count": 23,
     "metadata": {},
     "output_type": "execute_result"
    }
   ],
   "source": [
    "# check Gender\n",
    "data.Gender.value_counts()"
   ]
  },
  {
   "cell_type": "code",
   "execution_count": 24,
   "metadata": {},
   "outputs": [
    {
     "data": {
      "application/vnd.plotly.v1+json": {
       "config": {
        "plotlyServerURL": "https://plot.ly"
       },
       "data": [
        {
         "domain": {
          "x": [
           0,
           1
          ],
          "y": [
           0,
           1
          ]
         },
         "hovertemplate": "label=%{label}<br>value=%{value}<extra></extra>",
         "labels": [
          "Stayed",
          "Churned"
         ],
         "legendgroup": "",
         "name": "",
         "showlegend": true,
         "type": "pie",
         "values": [
          4275,
          1732
         ]
        }
       ],
       "layout": {
        "legend": {
         "tracegroupgap": 0
        },
        "template": {
         "data": {
          "bar": [
           {
            "error_x": {
             "color": "#2a3f5f"
            },
            "error_y": {
             "color": "#2a3f5f"
            },
            "marker": {
             "line": {
              "color": "#E5ECF6",
              "width": 0.5
             },
             "pattern": {
              "fillmode": "overlay",
              "size": 10,
              "solidity": 0.2
             }
            },
            "type": "bar"
           }
          ],
          "barpolar": [
           {
            "marker": {
             "line": {
              "color": "#E5ECF6",
              "width": 0.5
             },
             "pattern": {
              "fillmode": "overlay",
              "size": 10,
              "solidity": 0.2
             }
            },
            "type": "barpolar"
           }
          ],
          "carpet": [
           {
            "aaxis": {
             "endlinecolor": "#2a3f5f",
             "gridcolor": "white",
             "linecolor": "white",
             "minorgridcolor": "white",
             "startlinecolor": "#2a3f5f"
            },
            "baxis": {
             "endlinecolor": "#2a3f5f",
             "gridcolor": "white",
             "linecolor": "white",
             "minorgridcolor": "white",
             "startlinecolor": "#2a3f5f"
            },
            "type": "carpet"
           }
          ],
          "choropleth": [
           {
            "colorbar": {
             "outlinewidth": 0,
             "ticks": ""
            },
            "type": "choropleth"
           }
          ],
          "contour": [
           {
            "colorbar": {
             "outlinewidth": 0,
             "ticks": ""
            },
            "colorscale": [
             [
              0,
              "#0d0887"
             ],
             [
              0.1111111111111111,
              "#46039f"
             ],
             [
              0.2222222222222222,
              "#7201a8"
             ],
             [
              0.3333333333333333,
              "#9c179e"
             ],
             [
              0.4444444444444444,
              "#bd3786"
             ],
             [
              0.5555555555555556,
              "#d8576b"
             ],
             [
              0.6666666666666666,
              "#ed7953"
             ],
             [
              0.7777777777777778,
              "#fb9f3a"
             ],
             [
              0.8888888888888888,
              "#fdca26"
             ],
             [
              1,
              "#f0f921"
             ]
            ],
            "type": "contour"
           }
          ],
          "contourcarpet": [
           {
            "colorbar": {
             "outlinewidth": 0,
             "ticks": ""
            },
            "type": "contourcarpet"
           }
          ],
          "heatmap": [
           {
            "colorbar": {
             "outlinewidth": 0,
             "ticks": ""
            },
            "colorscale": [
             [
              0,
              "#0d0887"
             ],
             [
              0.1111111111111111,
              "#46039f"
             ],
             [
              0.2222222222222222,
              "#7201a8"
             ],
             [
              0.3333333333333333,
              "#9c179e"
             ],
             [
              0.4444444444444444,
              "#bd3786"
             ],
             [
              0.5555555555555556,
              "#d8576b"
             ],
             [
              0.6666666666666666,
              "#ed7953"
             ],
             [
              0.7777777777777778,
              "#fb9f3a"
             ],
             [
              0.8888888888888888,
              "#fdca26"
             ],
             [
              1,
              "#f0f921"
             ]
            ],
            "type": "heatmap"
           }
          ],
          "heatmapgl": [
           {
            "colorbar": {
             "outlinewidth": 0,
             "ticks": ""
            },
            "colorscale": [
             [
              0,
              "#0d0887"
             ],
             [
              0.1111111111111111,
              "#46039f"
             ],
             [
              0.2222222222222222,
              "#7201a8"
             ],
             [
              0.3333333333333333,
              "#9c179e"
             ],
             [
              0.4444444444444444,
              "#bd3786"
             ],
             [
              0.5555555555555556,
              "#d8576b"
             ],
             [
              0.6666666666666666,
              "#ed7953"
             ],
             [
              0.7777777777777778,
              "#fb9f3a"
             ],
             [
              0.8888888888888888,
              "#fdca26"
             ],
             [
              1,
              "#f0f921"
             ]
            ],
            "type": "heatmapgl"
           }
          ],
          "histogram": [
           {
            "marker": {
             "pattern": {
              "fillmode": "overlay",
              "size": 10,
              "solidity": 0.2
             }
            },
            "type": "histogram"
           }
          ],
          "histogram2d": [
           {
            "colorbar": {
             "outlinewidth": 0,
             "ticks": ""
            },
            "colorscale": [
             [
              0,
              "#0d0887"
             ],
             [
              0.1111111111111111,
              "#46039f"
             ],
             [
              0.2222222222222222,
              "#7201a8"
             ],
             [
              0.3333333333333333,
              "#9c179e"
             ],
             [
              0.4444444444444444,
              "#bd3786"
             ],
             [
              0.5555555555555556,
              "#d8576b"
             ],
             [
              0.6666666666666666,
              "#ed7953"
             ],
             [
              0.7777777777777778,
              "#fb9f3a"
             ],
             [
              0.8888888888888888,
              "#fdca26"
             ],
             [
              1,
              "#f0f921"
             ]
            ],
            "type": "histogram2d"
           }
          ],
          "histogram2dcontour": [
           {
            "colorbar": {
             "outlinewidth": 0,
             "ticks": ""
            },
            "colorscale": [
             [
              0,
              "#0d0887"
             ],
             [
              0.1111111111111111,
              "#46039f"
             ],
             [
              0.2222222222222222,
              "#7201a8"
             ],
             [
              0.3333333333333333,
              "#9c179e"
             ],
             [
              0.4444444444444444,
              "#bd3786"
             ],
             [
              0.5555555555555556,
              "#d8576b"
             ],
             [
              0.6666666666666666,
              "#ed7953"
             ],
             [
              0.7777777777777778,
              "#fb9f3a"
             ],
             [
              0.8888888888888888,
              "#fdca26"
             ],
             [
              1,
              "#f0f921"
             ]
            ],
            "type": "histogram2dcontour"
           }
          ],
          "mesh3d": [
           {
            "colorbar": {
             "outlinewidth": 0,
             "ticks": ""
            },
            "type": "mesh3d"
           }
          ],
          "parcoords": [
           {
            "line": {
             "colorbar": {
              "outlinewidth": 0,
              "ticks": ""
             }
            },
            "type": "parcoords"
           }
          ],
          "pie": [
           {
            "automargin": true,
            "type": "pie"
           }
          ],
          "scatter": [
           {
            "fillpattern": {
             "fillmode": "overlay",
             "size": 10,
             "solidity": 0.2
            },
            "type": "scatter"
           }
          ],
          "scatter3d": [
           {
            "line": {
             "colorbar": {
              "outlinewidth": 0,
              "ticks": ""
             }
            },
            "marker": {
             "colorbar": {
              "outlinewidth": 0,
              "ticks": ""
             }
            },
            "type": "scatter3d"
           }
          ],
          "scattercarpet": [
           {
            "marker": {
             "colorbar": {
              "outlinewidth": 0,
              "ticks": ""
             }
            },
            "type": "scattercarpet"
           }
          ],
          "scattergeo": [
           {
            "marker": {
             "colorbar": {
              "outlinewidth": 0,
              "ticks": ""
             }
            },
            "type": "scattergeo"
           }
          ],
          "scattergl": [
           {
            "marker": {
             "colorbar": {
              "outlinewidth": 0,
              "ticks": ""
             }
            },
            "type": "scattergl"
           }
          ],
          "scattermapbox": [
           {
            "marker": {
             "colorbar": {
              "outlinewidth": 0,
              "ticks": ""
             }
            },
            "type": "scattermapbox"
           }
          ],
          "scatterpolar": [
           {
            "marker": {
             "colorbar": {
              "outlinewidth": 0,
              "ticks": ""
             }
            },
            "type": "scatterpolar"
           }
          ],
          "scatterpolargl": [
           {
            "marker": {
             "colorbar": {
              "outlinewidth": 0,
              "ticks": ""
             }
            },
            "type": "scatterpolargl"
           }
          ],
          "scatterternary": [
           {
            "marker": {
             "colorbar": {
              "outlinewidth": 0,
              "ticks": ""
             }
            },
            "type": "scatterternary"
           }
          ],
          "surface": [
           {
            "colorbar": {
             "outlinewidth": 0,
             "ticks": ""
            },
            "colorscale": [
             [
              0,
              "#0d0887"
             ],
             [
              0.1111111111111111,
              "#46039f"
             ],
             [
              0.2222222222222222,
              "#7201a8"
             ],
             [
              0.3333333333333333,
              "#9c179e"
             ],
             [
              0.4444444444444444,
              "#bd3786"
             ],
             [
              0.5555555555555556,
              "#d8576b"
             ],
             [
              0.6666666666666666,
              "#ed7953"
             ],
             [
              0.7777777777777778,
              "#fb9f3a"
             ],
             [
              0.8888888888888888,
              "#fdca26"
             ],
             [
              1,
              "#f0f921"
             ]
            ],
            "type": "surface"
           }
          ],
          "table": [
           {
            "cells": {
             "fill": {
              "color": "#EBF0F8"
             },
             "line": {
              "color": "white"
             }
            },
            "header": {
             "fill": {
              "color": "#C8D4E3"
             },
             "line": {
              "color": "white"
             }
            },
            "type": "table"
           }
          ]
         },
         "layout": {
          "annotationdefaults": {
           "arrowcolor": "#2a3f5f",
           "arrowhead": 0,
           "arrowwidth": 1
          },
          "autotypenumbers": "strict",
          "coloraxis": {
           "colorbar": {
            "outlinewidth": 0,
            "ticks": ""
           }
          },
          "colorscale": {
           "diverging": [
            [
             0,
             "#8e0152"
            ],
            [
             0.1,
             "#c51b7d"
            ],
            [
             0.2,
             "#de77ae"
            ],
            [
             0.3,
             "#f1b6da"
            ],
            [
             0.4,
             "#fde0ef"
            ],
            [
             0.5,
             "#f7f7f7"
            ],
            [
             0.6,
             "#e6f5d0"
            ],
            [
             0.7,
             "#b8e186"
            ],
            [
             0.8,
             "#7fbc41"
            ],
            [
             0.9,
             "#4d9221"
            ],
            [
             1,
             "#276419"
            ]
           ],
           "sequential": [
            [
             0,
             "#0d0887"
            ],
            [
             0.1111111111111111,
             "#46039f"
            ],
            [
             0.2222222222222222,
             "#7201a8"
            ],
            [
             0.3333333333333333,
             "#9c179e"
            ],
            [
             0.4444444444444444,
             "#bd3786"
            ],
            [
             0.5555555555555556,
             "#d8576b"
            ],
            [
             0.6666666666666666,
             "#ed7953"
            ],
            [
             0.7777777777777778,
             "#fb9f3a"
            ],
            [
             0.8888888888888888,
             "#fdca26"
            ],
            [
             1,
             "#f0f921"
            ]
           ],
           "sequentialminus": [
            [
             0,
             "#0d0887"
            ],
            [
             0.1111111111111111,
             "#46039f"
            ],
            [
             0.2222222222222222,
             "#7201a8"
            ],
            [
             0.3333333333333333,
             "#9c179e"
            ],
            [
             0.4444444444444444,
             "#bd3786"
            ],
            [
             0.5555555555555556,
             "#d8576b"
            ],
            [
             0.6666666666666666,
             "#ed7953"
            ],
            [
             0.7777777777777778,
             "#fb9f3a"
            ],
            [
             0.8888888888888888,
             "#fdca26"
            ],
            [
             1,
             "#f0f921"
            ]
           ]
          },
          "colorway": [
           "#636efa",
           "#EF553B",
           "#00cc96",
           "#ab63fa",
           "#FFA15A",
           "#19d3f3",
           "#FF6692",
           "#B6E880",
           "#FF97FF",
           "#FECB52"
          ],
          "font": {
           "color": "#2a3f5f"
          },
          "geo": {
           "bgcolor": "white",
           "lakecolor": "white",
           "landcolor": "#E5ECF6",
           "showlakes": true,
           "showland": true,
           "subunitcolor": "white"
          },
          "hoverlabel": {
           "align": "left"
          },
          "hovermode": "closest",
          "mapbox": {
           "style": "light"
          },
          "paper_bgcolor": "white",
          "plot_bgcolor": "#E5ECF6",
          "polar": {
           "angularaxis": {
            "gridcolor": "white",
            "linecolor": "white",
            "ticks": ""
           },
           "bgcolor": "#E5ECF6",
           "radialaxis": {
            "gridcolor": "white",
            "linecolor": "white",
            "ticks": ""
           }
          },
          "scene": {
           "xaxis": {
            "backgroundcolor": "#E5ECF6",
            "gridcolor": "white",
            "gridwidth": 2,
            "linecolor": "white",
            "showbackground": true,
            "ticks": "",
            "zerolinecolor": "white"
           },
           "yaxis": {
            "backgroundcolor": "#E5ECF6",
            "gridcolor": "white",
            "gridwidth": 2,
            "linecolor": "white",
            "showbackground": true,
            "ticks": "",
            "zerolinecolor": "white"
           },
           "zaxis": {
            "backgroundcolor": "#E5ECF6",
            "gridcolor": "white",
            "gridwidth": 2,
            "linecolor": "white",
            "showbackground": true,
            "ticks": "",
            "zerolinecolor": "white"
           }
          },
          "shapedefaults": {
           "line": {
            "color": "#2a3f5f"
           }
          },
          "ternary": {
           "aaxis": {
            "gridcolor": "white",
            "linecolor": "white",
            "ticks": ""
           },
           "baxis": {
            "gridcolor": "white",
            "linecolor": "white",
            "ticks": ""
           },
           "bgcolor": "#E5ECF6",
           "caxis": {
            "gridcolor": "white",
            "linecolor": "white",
            "ticks": ""
           }
          },
          "title": {
           "x": 0.05
          },
          "xaxis": {
           "automargin": true,
           "gridcolor": "white",
           "linecolor": "white",
           "ticks": "",
           "title": {
            "standoff": 15
           },
           "zerolinecolor": "white",
           "zerolinewidth": 2
          },
          "yaxis": {
           "automargin": true,
           "gridcolor": "white",
           "linecolor": "white",
           "ticks": "",
           "title": {
            "standoff": 15
           },
           "zerolinecolor": "white",
           "zerolinewidth": 2
          }
         }
        },
        "title": {
         "text": " Distribution of Customer Status types"
        }
       }
      }
     },
     "metadata": {},
     "output_type": "display_data"
    }
   ],
   "source": [
    "# Distribution of Customer Status\n",
    "type = data['Customer_Status'].value_counts()\n",
    "transactions = type.index\n",
    "quantity = type.values\n",
    "\n",
    "import plotly.express as px\n",
    "figure = px.pie(data, values= quantity , names = transactions ,\n",
    "                title =' Distribution of Customer Status types')\n",
    "figure.show()"
   ]
  },
  {
   "cell_type": "markdown",
   "metadata": {},
   "source": [
    "# Data Training and Predictions"
   ]
  },
  {
   "cell_type": "code",
   "execution_count": 25,
   "metadata": {},
   "outputs": [],
   "source": [
    "# Manually encode the target variable 'Customer_Status'\n",
    "data['Customer_Status'] = data['Customer_Status'].map({'Stayed': 0, 'Churned': 1})\n",
    "\n",
    "# Split data into features and target\n",
    "X = data.drop('Customer_Status', axis=1) # features\n",
    "y = data['Customer_Status'] # target \n",
    "\n",
    "# Split data into training and testing sets\n",
    "X_train, X_test, y_train, y_test = train_test_split(X, y, test_size=0.2, random_state=42)\n"
   ]
  },
  {
   "cell_type": "code",
   "execution_count": 26,
   "metadata": {},
   "outputs": [
    {
     "data": {
      "text/html": [
       "<style>#sk-container-id-1 {color: black;}#sk-container-id-1 pre{padding: 0;}#sk-container-id-1 div.sk-toggleable {background-color: white;}#sk-container-id-1 label.sk-toggleable__label {cursor: pointer;display: block;width: 100%;margin-bottom: 0;padding: 0.3em;box-sizing: border-box;text-align: center;}#sk-container-id-1 label.sk-toggleable__label-arrow:before {content: \"▸\";float: left;margin-right: 0.25em;color: #696969;}#sk-container-id-1 label.sk-toggleable__label-arrow:hover:before {color: black;}#sk-container-id-1 div.sk-estimator:hover label.sk-toggleable__label-arrow:before {color: black;}#sk-container-id-1 div.sk-toggleable__content {max-height: 0;max-width: 0;overflow: hidden;text-align: left;background-color: #f0f8ff;}#sk-container-id-1 div.sk-toggleable__content pre {margin: 0.2em;color: black;border-radius: 0.25em;background-color: #f0f8ff;}#sk-container-id-1 input.sk-toggleable__control:checked~div.sk-toggleable__content {max-height: 200px;max-width: 100%;overflow: auto;}#sk-container-id-1 input.sk-toggleable__control:checked~label.sk-toggleable__label-arrow:before {content: \"▾\";}#sk-container-id-1 div.sk-estimator input.sk-toggleable__control:checked~label.sk-toggleable__label {background-color: #d4ebff;}#sk-container-id-1 div.sk-label input.sk-toggleable__control:checked~label.sk-toggleable__label {background-color: #d4ebff;}#sk-container-id-1 input.sk-hidden--visually {border: 0;clip: rect(1px 1px 1px 1px);clip: rect(1px, 1px, 1px, 1px);height: 1px;margin: -1px;overflow: hidden;padding: 0;position: absolute;width: 1px;}#sk-container-id-1 div.sk-estimator {font-family: monospace;background-color: #f0f8ff;border: 1px dotted black;border-radius: 0.25em;box-sizing: border-box;margin-bottom: 0.5em;}#sk-container-id-1 div.sk-estimator:hover {background-color: #d4ebff;}#sk-container-id-1 div.sk-parallel-item::after {content: \"\";width: 100%;border-bottom: 1px solid gray;flex-grow: 1;}#sk-container-id-1 div.sk-label:hover label.sk-toggleable__label {background-color: #d4ebff;}#sk-container-id-1 div.sk-serial::before {content: \"\";position: absolute;border-left: 1px solid gray;box-sizing: border-box;top: 0;bottom: 0;left: 50%;z-index: 0;}#sk-container-id-1 div.sk-serial {display: flex;flex-direction: column;align-items: center;background-color: white;padding-right: 0.2em;padding-left: 0.2em;position: relative;}#sk-container-id-1 div.sk-item {position: relative;z-index: 1;}#sk-container-id-1 div.sk-parallel {display: flex;align-items: stretch;justify-content: center;background-color: white;position: relative;}#sk-container-id-1 div.sk-item::before, #sk-container-id-1 div.sk-parallel-item::before {content: \"\";position: absolute;border-left: 1px solid gray;box-sizing: border-box;top: 0;bottom: 0;left: 50%;z-index: -1;}#sk-container-id-1 div.sk-parallel-item {display: flex;flex-direction: column;z-index: 1;position: relative;background-color: white;}#sk-container-id-1 div.sk-parallel-item:first-child::after {align-self: flex-end;width: 50%;}#sk-container-id-1 div.sk-parallel-item:last-child::after {align-self: flex-start;width: 50%;}#sk-container-id-1 div.sk-parallel-item:only-child::after {width: 0;}#sk-container-id-1 div.sk-dashed-wrapped {border: 1px dashed gray;margin: 0 0.4em 0.5em 0.4em;box-sizing: border-box;padding-bottom: 0.4em;background-color: white;}#sk-container-id-1 div.sk-label label {font-family: monospace;font-weight: bold;display: inline-block;line-height: 1.2em;}#sk-container-id-1 div.sk-label-container {text-align: center;}#sk-container-id-1 div.sk-container {/* jupyter's `normalize.less` sets `[hidden] { display: none; }` but bootstrap.min.css set `[hidden] { display: none !important; }` so we also need the `!important` here to be able to override the default hidden behavior on the sphinx rendered scikit-learn.org. See: https://github.com/scikit-learn/scikit-learn/issues/21755 */display: inline-block !important;position: relative;}#sk-container-id-1 div.sk-text-repr-fallback {display: none;}</style><div id=\"sk-container-id-1\" class=\"sk-top-container\"><div class=\"sk-text-repr-fallback\"><pre>RandomForestClassifier(n_estimators=70, random_state=42)</pre><b>In a Jupyter environment, please rerun this cell to show the HTML representation or trust the notebook. <br />On GitHub, the HTML representation is unable to render, please try loading this page with nbviewer.org.</b></div><div class=\"sk-container\" hidden><div class=\"sk-item\"><div class=\"sk-estimator sk-toggleable\"><input class=\"sk-toggleable__control sk-hidden--visually\" id=\"sk-estimator-id-1\" type=\"checkbox\" checked><label for=\"sk-estimator-id-1\" class=\"sk-toggleable__label sk-toggleable__label-arrow\">RandomForestClassifier</label><div class=\"sk-toggleable__content\"><pre>RandomForestClassifier(n_estimators=70, random_state=42)</pre></div></div></div></div></div>"
      ],
      "text/plain": [
       "RandomForestClassifier(n_estimators=70, random_state=42)"
      ]
     },
     "execution_count": 26,
     "metadata": {},
     "output_type": "execute_result"
    }
   ],
   "source": [
    "#Train Random Forest Model\n",
    "# Initialize the Random Forest Classifier\n",
    "rf_model = RandomForestClassifier(n_estimators=70, random_state=42)\n",
    "\n",
    "# Train the model\n",
    "rf_model.fit(X_train, y_train)\n",
    "\n"
   ]
  },
  {
   "cell_type": "code",
   "execution_count": 27,
   "metadata": {},
   "outputs": [
    {
     "data": {
      "text/plain": [
       "0.8560732113144759"
      ]
     },
     "execution_count": 27,
     "metadata": {},
     "output_type": "execute_result"
    }
   ],
   "source": [
    "rf_model.score(X_test, y_test.ravel())"
   ]
  },
  {
   "cell_type": "code",
   "execution_count": 28,
   "metadata": {},
   "outputs": [
    {
     "data": {
      "text/plain": [
       "0.7637271214642263"
      ]
     },
     "execution_count": 28,
     "metadata": {},
     "output_type": "execute_result"
    }
   ],
   "source": [
    "from sklearn.tree import DecisionTreeClassifier\n",
    "model1 = DecisionTreeClassifier()\n",
    "model1.fit(X_train , y_train.ravel())\n",
    "model1.score(X_test, y_test)"
   ]
  },
  {
   "cell_type": "code",
   "execution_count": 29,
   "metadata": {},
   "outputs": [
    {
     "name": "stdout",
     "output_type": "stream",
     "text": [
      "Confusion Matrix:\n",
      "[[796  38]\n",
      " [135 233]]\n",
      "\n",
      "Classification Report:\n",
      "              precision    recall  f1-score   support\n",
      "\n",
      "           0       0.85      0.95      0.90       834\n",
      "           1       0.86      0.63      0.73       368\n",
      "\n",
      "    accuracy                           0.86      1202\n",
      "   macro avg       0.86      0.79      0.82      1202\n",
      "weighted avg       0.86      0.86      0.85      1202\n",
      "\n"
     ]
    }
   ],
   "source": [
    "#Evaluate Model\n",
    "# Make predictions\n",
    "y_pred = rf_model.predict(X_test)\n",
    "\n",
    "# Evaluate the model\n",
    "print(\"Confusion Matrix:\")\n",
    "print(confusion_matrix(y_test, y_pred))\n",
    "print(\"\\nClassification Report:\")\n",
    "print(classification_report(y_test, y_pred))"
   ]
  },
  {
   "cell_type": "code",
   "execution_count": 30,
   "metadata": {},
   "outputs": [
    {
     "data": {
      "image/png": "[encoded data removed]",
      "text/plain": [
       "<Figure size 1500x600 with 1 Axes>"
      ]
     },
     "metadata": {},
     "output_type": "display_data"
    }
   ],
   "source": [
    "# Feature Selection using Feature Importance\n",
    "importances = rf_model.feature_importances_\n",
    "indices = np.argsort(importances)[::-1] # sort the importance \n",
    "\n",
    "# Plot the feature importances\n",
    "plt.figure(figsize=(15, 6))\n",
    "sns.barplot(x=importances[indices], y=X.columns[indices])\n",
    "plt.title('Feature Importances')\n",
    "plt.xlabel('Relative Importance')\n",
    "plt.ylabel('Feature Names')\n",
    "plt.show()\n",
    "\n"
   ]
  },
  {
   "cell_type": "markdown",
   "metadata": {},
   "source": [
    "# Use Model for Prediction on New Data\n"
   ]
  },
  {
   "cell_type": "code",
   "execution_count": 31,
   "metadata": {},
   "outputs": [],
   "source": [
    "# Define the path to the Joiner Data Excel file\n",
    "file_path = r\"C:/Users/mosta/OneDrive/Desktop/Ds 2023/Project Data Science 30.09.2024 to 1.11.2024/Churn Analysis Portfolio Project/Prediction_Data.xlsx\"\n",
    "\n",
    "# Define the sheet name to read data from\n",
    "sheet_name = 'vw_JoinData'\n",
    "\n",
    "# Read the data from the specified sheet into a pandas DataFrame\n",
    "new_data = pd.read_excel(file_path, sheet_name=sheet_name)\n"
   ]
  },
  {
   "cell_type": "code",
   "execution_count": 32,
   "metadata": {},
   "outputs": [
    {
     "name": "stdout",
     "output_type": "stream",
     "text": [
      "  Customer_ID  Gender  Age Married        State  Number_of_Referrals  \\\n",
      "0   18829-TAM  Female   49     Yes   Tamil Nadu                    4   \n",
      "1   22765-MAH  Female   40     Yes  Maharashtra                    6   \n",
      "2   22782-ODI  Female   50     Yes       Odisha                    2   \n",
      "3   26412-ASS  Female   30      No        Assam                    7   \n",
      "4   26448-BIH  Female   57      No        Bihar                   10   \n",
      "\n",
      "   Tenure_in_Months Value_Deal Phone_Service Multiple_Lines Internet_Service  \\\n",
      "0                31     Deal 5           Yes             No               No   \n",
      "1                16     Deal 5           Yes             No               No   \n",
      "2                28       None           Yes             No               No   \n",
      "3                18       None           Yes             No               No   \n",
      "4                21     Deal 5           Yes             No              Yes   \n",
      "\n",
      "  Internet_Type Online_Security Online_Backup Device_Protection_Plan  \\\n",
      "0          None              No            No                     No   \n",
      "1          None              No            No                     No   \n",
      "2          None              No            No                     No   \n",
      "3          None              No            No                     No   \n",
      "4           DSL              No           Yes                     No   \n",
      "\n",
      "  Premium_Support Streaming_TV Streaming_Movies Streaming_Music  \\\n",
      "0              No           No               No              No   \n",
      "1              No           No               No              No   \n",
      "2              No           No               No              No   \n",
      "3              No           No               No              No   \n",
      "4             Yes          Yes              Yes             Yes   \n",
      "\n",
      "  Unlimited_Data        Contract Paperless_Billing   Payment_Method  \\\n",
      "0             No  Month-to-Month                No      Credit Card   \n",
      "1             No  Month-to-Month                No  Bank Withdrawal   \n",
      "2             No  Month-to-Month                No      Credit Card   \n",
      "3             No  Month-to-Month               Yes  Bank Withdrawal   \n",
      "4            Yes  Month-to-Month               Yes  Bank Withdrawal   \n",
      "\n",
      "   Monthly_Charge  Total_Charges  Total_Refunds  Total_Extra_Data_Charges  \\\n",
      "0           18.80          56.00            0.0                         0   \n",
      "1           19.45          19.45            0.0                         0   \n",
      "2           19.30          54.70            0.0                         0   \n",
      "3           20.70          39.85            0.0                         0   \n",
      "4           75.30         244.10            0.0                         0   \n",
      "\n",
      "   Total_Long_Distance_Charges  Total_Revenue Customer_Status Churn_Category  \\\n",
      "0                        19.83          75.83          Joined         Others   \n",
      "1                        16.44          35.89          Joined         Others   \n",
      "2                        30.39          85.09          Joined         Others   \n",
      "3                        27.78          67.63          Joined         Others   \n",
      "4                       116.97         361.07          Joined         Others   \n",
      "\n",
      "  Churn_Reason  \n",
      "0       Others  \n",
      "1       Others  \n",
      "2       Others  \n",
      "3       Others  \n",
      "4       Others  \n"
     ]
    }
   ],
   "source": [
    "# Display the first few rows of the fetched data\n",
    "print(new_data.head())"
   ]
  },
  {
   "cell_type": "code",
   "execution_count": 33,
   "metadata": {},
   "outputs": [
    {
     "data": {
      "text/html": [
       "<div>\n",
       "<style scoped>\n",
       "    .dataframe tbody tr th:only-of-type {\n",
       "        vertical-align: middle;\n",
       "    }\n",
       "\n",
       "    .dataframe tbody tr th {\n",
       "        vertical-align: top;\n",
       "    }\n",
       "\n",
       "    .dataframe thead th {\n",
       "        text-align: right;\n",
       "    }\n",
       "</style>\n",
       "<table border=\"1\" class=\"dataframe\">\n",
       "  <thead>\n",
       "    <tr style=\"text-align: right;\">\n",
       "      <th></th>\n",
       "      <th>Customer_ID</th>\n",
       "      <th>Gender</th>\n",
       "      <th>Age</th>\n",
       "      <th>Married</th>\n",
       "      <th>State</th>\n",
       "      <th>Number_of_Referrals</th>\n",
       "      <th>Tenure_in_Months</th>\n",
       "      <th>Value_Deal</th>\n",
       "      <th>Phone_Service</th>\n",
       "      <th>Multiple_Lines</th>\n",
       "      <th>Internet_Service</th>\n",
       "      <th>Internet_Type</th>\n",
       "      <th>Online_Security</th>\n",
       "      <th>Online_Backup</th>\n",
       "      <th>Device_Protection_Plan</th>\n",
       "      <th>Premium_Support</th>\n",
       "      <th>Streaming_TV</th>\n",
       "      <th>Streaming_Movies</th>\n",
       "      <th>Streaming_Music</th>\n",
       "      <th>Unlimited_Data</th>\n",
       "      <th>Contract</th>\n",
       "      <th>Paperless_Billing</th>\n",
       "      <th>Payment_Method</th>\n",
       "      <th>Monthly_Charge</th>\n",
       "      <th>Total_Charges</th>\n",
       "      <th>Total_Refunds</th>\n",
       "      <th>Total_Extra_Data_Charges</th>\n",
       "      <th>Total_Long_Distance_Charges</th>\n",
       "      <th>Total_Revenue</th>\n",
       "      <th>Customer_Status</th>\n",
       "      <th>Churn_Category</th>\n",
       "      <th>Churn_Reason</th>\n",
       "    </tr>\n",
       "  </thead>\n",
       "  <tbody>\n",
       "    <tr>\n",
       "      <th>0</th>\n",
       "      <td>18829-TAM</td>\n",
       "      <td>Female</td>\n",
       "      <td>49</td>\n",
       "      <td>Yes</td>\n",
       "      <td>Tamil Nadu</td>\n",
       "      <td>4</td>\n",
       "      <td>31</td>\n",
       "      <td>Deal 5</td>\n",
       "      <td>Yes</td>\n",
       "      <td>No</td>\n",
       "      <td>No</td>\n",
       "      <td>None</td>\n",
       "      <td>No</td>\n",
       "      <td>No</td>\n",
       "      <td>No</td>\n",
       "      <td>No</td>\n",
       "      <td>No</td>\n",
       "      <td>No</td>\n",
       "      <td>No</td>\n",
       "      <td>No</td>\n",
       "      <td>Month-to-Month</td>\n",
       "      <td>No</td>\n",
       "      <td>Credit Card</td>\n",
       "      <td>18.80</td>\n",
       "      <td>56.00</td>\n",
       "      <td>0.0</td>\n",
       "      <td>0</td>\n",
       "      <td>19.83</td>\n",
       "      <td>75.83</td>\n",
       "      <td>Joined</td>\n",
       "      <td>Others</td>\n",
       "      <td>Others</td>\n",
       "    </tr>\n",
       "    <tr>\n",
       "      <th>1</th>\n",
       "      <td>22765-MAH</td>\n",
       "      <td>Female</td>\n",
       "      <td>40</td>\n",
       "      <td>Yes</td>\n",
       "      <td>Maharashtra</td>\n",
       "      <td>6</td>\n",
       "      <td>16</td>\n",
       "      <td>Deal 5</td>\n",
       "      <td>Yes</td>\n",
       "      <td>No</td>\n",
       "      <td>No</td>\n",
       "      <td>None</td>\n",
       "      <td>No</td>\n",
       "      <td>No</td>\n",
       "      <td>No</td>\n",
       "      <td>No</td>\n",
       "      <td>No</td>\n",
       "      <td>No</td>\n",
       "      <td>No</td>\n",
       "      <td>No</td>\n",
       "      <td>Month-to-Month</td>\n",
       "      <td>No</td>\n",
       "      <td>Bank Withdrawal</td>\n",
       "      <td>19.45</td>\n",
       "      <td>19.45</td>\n",
       "      <td>0.0</td>\n",
       "      <td>0</td>\n",
       "      <td>16.44</td>\n",
       "      <td>35.89</td>\n",
       "      <td>Joined</td>\n",
       "      <td>Others</td>\n",
       "      <td>Others</td>\n",
       "    </tr>\n",
       "    <tr>\n",
       "      <th>2</th>\n",
       "      <td>22782-ODI</td>\n",
       "      <td>Female</td>\n",
       "      <td>50</td>\n",
       "      <td>Yes</td>\n",
       "      <td>Odisha</td>\n",
       "      <td>2</td>\n",
       "      <td>28</td>\n",
       "      <td>None</td>\n",
       "      <td>Yes</td>\n",
       "      <td>No</td>\n",
       "      <td>No</td>\n",
       "      <td>None</td>\n",
       "      <td>No</td>\n",
       "      <td>No</td>\n",
       "      <td>No</td>\n",
       "      <td>No</td>\n",
       "      <td>No</td>\n",
       "      <td>No</td>\n",
       "      <td>No</td>\n",
       "      <td>No</td>\n",
       "      <td>Month-to-Month</td>\n",
       "      <td>No</td>\n",
       "      <td>Credit Card</td>\n",
       "      <td>19.30</td>\n",
       "      <td>54.70</td>\n",
       "      <td>0.0</td>\n",
       "      <td>0</td>\n",
       "      <td>30.39</td>\n",
       "      <td>85.09</td>\n",
       "      <td>Joined</td>\n",
       "      <td>Others</td>\n",
       "      <td>Others</td>\n",
       "    </tr>\n",
       "    <tr>\n",
       "      <th>3</th>\n",
       "      <td>26412-ASS</td>\n",
       "      <td>Female</td>\n",
       "      <td>30</td>\n",
       "      <td>No</td>\n",
       "      <td>Assam</td>\n",
       "      <td>7</td>\n",
       "      <td>18</td>\n",
       "      <td>None</td>\n",
       "      <td>Yes</td>\n",
       "      <td>No</td>\n",
       "      <td>No</td>\n",
       "      <td>None</td>\n",
       "      <td>No</td>\n",
       "      <td>No</td>\n",
       "      <td>No</td>\n",
       "      <td>No</td>\n",
       "      <td>No</td>\n",
       "      <td>No</td>\n",
       "      <td>No</td>\n",
       "      <td>No</td>\n",
       "      <td>Month-to-Month</td>\n",
       "      <td>Yes</td>\n",
       "      <td>Bank Withdrawal</td>\n",
       "      <td>20.70</td>\n",
       "      <td>39.85</td>\n",
       "      <td>0.0</td>\n",
       "      <td>0</td>\n",
       "      <td>27.78</td>\n",
       "      <td>67.63</td>\n",
       "      <td>Joined</td>\n",
       "      <td>Others</td>\n",
       "      <td>Others</td>\n",
       "    </tr>\n",
       "    <tr>\n",
       "      <th>4</th>\n",
       "      <td>26448-BIH</td>\n",
       "      <td>Female</td>\n",
       "      <td>57</td>\n",
       "      <td>No</td>\n",
       "      <td>Bihar</td>\n",
       "      <td>10</td>\n",
       "      <td>21</td>\n",
       "      <td>Deal 5</td>\n",
       "      <td>Yes</td>\n",
       "      <td>No</td>\n",
       "      <td>Yes</td>\n",
       "      <td>DSL</td>\n",
       "      <td>No</td>\n",
       "      <td>Yes</td>\n",
       "      <td>No</td>\n",
       "      <td>Yes</td>\n",
       "      <td>Yes</td>\n",
       "      <td>Yes</td>\n",
       "      <td>Yes</td>\n",
       "      <td>Yes</td>\n",
       "      <td>Month-to-Month</td>\n",
       "      <td>Yes</td>\n",
       "      <td>Bank Withdrawal</td>\n",
       "      <td>75.30</td>\n",
       "      <td>244.10</td>\n",
       "      <td>0.0</td>\n",
       "      <td>0</td>\n",
       "      <td>116.97</td>\n",
       "      <td>361.07</td>\n",
       "      <td>Joined</td>\n",
       "      <td>Others</td>\n",
       "      <td>Others</td>\n",
       "    </tr>\n",
       "    <tr>\n",
       "      <th>...</th>\n",
       "      <td>...</td>\n",
       "      <td>...</td>\n",
       "      <td>...</td>\n",
       "      <td>...</td>\n",
       "      <td>...</td>\n",
       "      <td>...</td>\n",
       "      <td>...</td>\n",
       "      <td>...</td>\n",
       "      <td>...</td>\n",
       "      <td>...</td>\n",
       "      <td>...</td>\n",
       "      <td>...</td>\n",
       "      <td>...</td>\n",
       "      <td>...</td>\n",
       "      <td>...</td>\n",
       "      <td>...</td>\n",
       "      <td>...</td>\n",
       "      <td>...</td>\n",
       "      <td>...</td>\n",
       "      <td>...</td>\n",
       "      <td>...</td>\n",
       "      <td>...</td>\n",
       "      <td>...</td>\n",
       "      <td>...</td>\n",
       "      <td>...</td>\n",
       "      <td>...</td>\n",
       "      <td>...</td>\n",
       "      <td>...</td>\n",
       "      <td>...</td>\n",
       "      <td>...</td>\n",
       "      <td>...</td>\n",
       "      <td>...</td>\n",
       "    </tr>\n",
       "    <tr>\n",
       "      <th>406</th>\n",
       "      <td>87077-TAM</td>\n",
       "      <td>Male</td>\n",
       "      <td>62</td>\n",
       "      <td>Yes</td>\n",
       "      <td>Tamil Nadu</td>\n",
       "      <td>3</td>\n",
       "      <td>21</td>\n",
       "      <td>Deal 5</td>\n",
       "      <td>Yes</td>\n",
       "      <td>No</td>\n",
       "      <td>Yes</td>\n",
       "      <td>Cable</td>\n",
       "      <td>No</td>\n",
       "      <td>No</td>\n",
       "      <td>Yes</td>\n",
       "      <td>No</td>\n",
       "      <td>Yes</td>\n",
       "      <td>Yes</td>\n",
       "      <td>Yes</td>\n",
       "      <td>Yes</td>\n",
       "      <td>Month-to-Month</td>\n",
       "      <td>No</td>\n",
       "      <td>Credit Card</td>\n",
       "      <td>69.00</td>\n",
       "      <td>147.80</td>\n",
       "      <td>0.0</td>\n",
       "      <td>0</td>\n",
       "      <td>54.82</td>\n",
       "      <td>202.62</td>\n",
       "      <td>Joined</td>\n",
       "      <td>Others</td>\n",
       "      <td>Others</td>\n",
       "    </tr>\n",
       "    <tr>\n",
       "      <th>407</th>\n",
       "      <td>95594-TAM</td>\n",
       "      <td>Female</td>\n",
       "      <td>64</td>\n",
       "      <td>No</td>\n",
       "      <td>Tamil Nadu</td>\n",
       "      <td>4</td>\n",
       "      <td>1</td>\n",
       "      <td>None</td>\n",
       "      <td>Yes</td>\n",
       "      <td>No</td>\n",
       "      <td>Yes</td>\n",
       "      <td>DSL</td>\n",
       "      <td>No</td>\n",
       "      <td>No</td>\n",
       "      <td>No</td>\n",
       "      <td>No</td>\n",
       "      <td>No</td>\n",
       "      <td>No</td>\n",
       "      <td>No</td>\n",
       "      <td>Yes</td>\n",
       "      <td>Month-to-Month</td>\n",
       "      <td>No</td>\n",
       "      <td>Bank Withdrawal</td>\n",
       "      <td>44.00</td>\n",
       "      <td>44.00</td>\n",
       "      <td>0.0</td>\n",
       "      <td>0</td>\n",
       "      <td>15.66</td>\n",
       "      <td>59.66</td>\n",
       "      <td>Joined</td>\n",
       "      <td>Others</td>\n",
       "      <td>Others</td>\n",
       "    </tr>\n",
       "    <tr>\n",
       "      <th>408</th>\n",
       "      <td>95735-PUN</td>\n",
       "      <td>Female</td>\n",
       "      <td>53</td>\n",
       "      <td>No</td>\n",
       "      <td>Punjab</td>\n",
       "      <td>10</td>\n",
       "      <td>21</td>\n",
       "      <td>None</td>\n",
       "      <td>Yes</td>\n",
       "      <td>No</td>\n",
       "      <td>No</td>\n",
       "      <td>None</td>\n",
       "      <td>No</td>\n",
       "      <td>No</td>\n",
       "      <td>No</td>\n",
       "      <td>No</td>\n",
       "      <td>No</td>\n",
       "      <td>No</td>\n",
       "      <td>No</td>\n",
       "      <td>No</td>\n",
       "      <td>Month-to-Month</td>\n",
       "      <td>No</td>\n",
       "      <td>Credit Card</td>\n",
       "      <td>19.25</td>\n",
       "      <td>48.35</td>\n",
       "      <td>0.0</td>\n",
       "      <td>0</td>\n",
       "      <td>42.36</td>\n",
       "      <td>90.71</td>\n",
       "      <td>Joined</td>\n",
       "      <td>Others</td>\n",
       "      <td>Others</td>\n",
       "    </tr>\n",
       "    <tr>\n",
       "      <th>409</th>\n",
       "      <td>95748-UTT</td>\n",
       "      <td>Male</td>\n",
       "      <td>22</td>\n",
       "      <td>Yes</td>\n",
       "      <td>Uttar Pradesh</td>\n",
       "      <td>5</td>\n",
       "      <td>4</td>\n",
       "      <td>Deal 5</td>\n",
       "      <td>Yes</td>\n",
       "      <td>Yes</td>\n",
       "      <td>No</td>\n",
       "      <td>None</td>\n",
       "      <td>No</td>\n",
       "      <td>No</td>\n",
       "      <td>No</td>\n",
       "      <td>No</td>\n",
       "      <td>No</td>\n",
       "      <td>No</td>\n",
       "      <td>No</td>\n",
       "      <td>No</td>\n",
       "      <td>Month-to-Month</td>\n",
       "      <td>No</td>\n",
       "      <td>Mailed Check</td>\n",
       "      <td>25.40</td>\n",
       "      <td>25.40</td>\n",
       "      <td>0.0</td>\n",
       "      <td>0</td>\n",
       "      <td>32.73</td>\n",
       "      <td>58.13</td>\n",
       "      <td>Joined</td>\n",
       "      <td>Others</td>\n",
       "      <td>Others</td>\n",
       "    </tr>\n",
       "    <tr>\n",
       "      <th>410</th>\n",
       "      <td>97828-MAH</td>\n",
       "      <td>Female</td>\n",
       "      <td>57</td>\n",
       "      <td>No</td>\n",
       "      <td>Maharashtra</td>\n",
       "      <td>0</td>\n",
       "      <td>12</td>\n",
       "      <td>Deal 5</td>\n",
       "      <td>Yes</td>\n",
       "      <td>No</td>\n",
       "      <td>Yes</td>\n",
       "      <td>Fiber Optic</td>\n",
       "      <td>No</td>\n",
       "      <td>No</td>\n",
       "      <td>No</td>\n",
       "      <td>No</td>\n",
       "      <td>Yes</td>\n",
       "      <td>Yes</td>\n",
       "      <td>Yes</td>\n",
       "      <td>Yes</td>\n",
       "      <td>Month-to-Month</td>\n",
       "      <td>Yes</td>\n",
       "      <td>Bank Withdrawal</td>\n",
       "      <td>92.00</td>\n",
       "      <td>266.80</td>\n",
       "      <td>0.0</td>\n",
       "      <td>0</td>\n",
       "      <td>46.80</td>\n",
       "      <td>313.60</td>\n",
       "      <td>Joined</td>\n",
       "      <td>Others</td>\n",
       "      <td>Others</td>\n",
       "    </tr>\n",
       "  </tbody>\n",
       "</table>\n",
       "<p>411 rows × 32 columns</p>\n",
       "</div>"
      ],
      "text/plain": [
       "    Customer_ID  Gender  Age Married          State  Number_of_Referrals  \\\n",
       "0     18829-TAM  Female   49     Yes     Tamil Nadu                    4   \n",
       "1     22765-MAH  Female   40     Yes    Maharashtra                    6   \n",
       "2     22782-ODI  Female   50     Yes         Odisha                    2   \n",
       "3     26412-ASS  Female   30      No          Assam                    7   \n",
       "4     26448-BIH  Female   57      No          Bihar                   10   \n",
       "..          ...     ...  ...     ...            ...                  ...   \n",
       "406   87077-TAM    Male   62     Yes     Tamil Nadu                    3   \n",
       "407   95594-TAM  Female   64      No     Tamil Nadu                    4   \n",
       "408   95735-PUN  Female   53      No         Punjab                   10   \n",
       "409   95748-UTT    Male   22     Yes  Uttar Pradesh                    5   \n",
       "410   97828-MAH  Female   57      No    Maharashtra                    0   \n",
       "\n",
       "     Tenure_in_Months Value_Deal Phone_Service Multiple_Lines  \\\n",
       "0                  31     Deal 5           Yes             No   \n",
       "1                  16     Deal 5           Yes             No   \n",
       "2                  28       None           Yes             No   \n",
       "3                  18       None           Yes             No   \n",
       "4                  21     Deal 5           Yes             No   \n",
       "..                ...        ...           ...            ...   \n",
       "406                21     Deal 5           Yes             No   \n",
       "407                 1       None           Yes             No   \n",
       "408                21       None           Yes             No   \n",
       "409                 4     Deal 5           Yes            Yes   \n",
       "410                12     Deal 5           Yes             No   \n",
       "\n",
       "    Internet_Service Internet_Type Online_Security Online_Backup  \\\n",
       "0                 No          None              No            No   \n",
       "1                 No          None              No            No   \n",
       "2                 No          None              No            No   \n",
       "3                 No          None              No            No   \n",
       "4                Yes           DSL              No           Yes   \n",
       "..               ...           ...             ...           ...   \n",
       "406              Yes         Cable              No            No   \n",
       "407              Yes           DSL              No            No   \n",
       "408               No          None              No            No   \n",
       "409               No          None              No            No   \n",
       "410              Yes   Fiber Optic              No            No   \n",
       "\n",
       "    Device_Protection_Plan Premium_Support Streaming_TV Streaming_Movies  \\\n",
       "0                       No              No           No               No   \n",
       "1                       No              No           No               No   \n",
       "2                       No              No           No               No   \n",
       "3                       No              No           No               No   \n",
       "4                       No             Yes          Yes              Yes   \n",
       "..                     ...             ...          ...              ...   \n",
       "406                    Yes              No          Yes              Yes   \n",
       "407                     No              No           No               No   \n",
       "408                     No              No           No               No   \n",
       "409                     No              No           No               No   \n",
       "410                     No              No          Yes              Yes   \n",
       "\n",
       "    Streaming_Music Unlimited_Data        Contract Paperless_Billing  \\\n",
       "0                No             No  Month-to-Month                No   \n",
       "1                No             No  Month-to-Month                No   \n",
       "2                No             No  Month-to-Month                No   \n",
       "3                No             No  Month-to-Month               Yes   \n",
       "4               Yes            Yes  Month-to-Month               Yes   \n",
       "..              ...            ...             ...               ...   \n",
       "406             Yes            Yes  Month-to-Month                No   \n",
       "407              No            Yes  Month-to-Month                No   \n",
       "408              No             No  Month-to-Month                No   \n",
       "409              No             No  Month-to-Month                No   \n",
       "410             Yes            Yes  Month-to-Month               Yes   \n",
       "\n",
       "      Payment_Method  Monthly_Charge  Total_Charges  Total_Refunds  \\\n",
       "0        Credit Card           18.80          56.00            0.0   \n",
       "1    Bank Withdrawal           19.45          19.45            0.0   \n",
       "2        Credit Card           19.30          54.70            0.0   \n",
       "3    Bank Withdrawal           20.70          39.85            0.0   \n",
       "4    Bank Withdrawal           75.30         244.10            0.0   \n",
       "..               ...             ...            ...            ...   \n",
       "406      Credit Card           69.00         147.80            0.0   \n",
       "407  Bank Withdrawal           44.00          44.00            0.0   \n",
       "408      Credit Card           19.25          48.35            0.0   \n",
       "409     Mailed Check           25.40          25.40            0.0   \n",
       "410  Bank Withdrawal           92.00         266.80            0.0   \n",
       "\n",
       "     Total_Extra_Data_Charges  Total_Long_Distance_Charges  Total_Revenue  \\\n",
       "0                           0                        19.83          75.83   \n",
       "1                           0                        16.44          35.89   \n",
       "2                           0                        30.39          85.09   \n",
       "3                           0                        27.78          67.63   \n",
       "4                           0                       116.97         361.07   \n",
       "..                        ...                          ...            ...   \n",
       "406                         0                        54.82         202.62   \n",
       "407                         0                        15.66          59.66   \n",
       "408                         0                        42.36          90.71   \n",
       "409                         0                        32.73          58.13   \n",
       "410                         0                        46.80         313.60   \n",
       "\n",
       "    Customer_Status Churn_Category Churn_Reason  \n",
       "0            Joined         Others       Others  \n",
       "1            Joined         Others       Others  \n",
       "2            Joined         Others       Others  \n",
       "3            Joined         Others       Others  \n",
       "4            Joined         Others       Others  \n",
       "..              ...            ...          ...  \n",
       "406          Joined         Others       Others  \n",
       "407          Joined         Others       Others  \n",
       "408          Joined         Others       Others  \n",
       "409          Joined         Others       Others  \n",
       "410          Joined         Others       Others  \n",
       "\n",
       "[411 rows x 32 columns]"
      ]
     },
     "execution_count": 33,
     "metadata": {},
     "output_type": "execute_result"
    }
   ],
   "source": [
    "pd.set_option('display.max_columns', None)\n",
    "new_data"
   ]
  },
  {
   "cell_type": "code",
   "execution_count": 34,
   "metadata": {},
   "outputs": [],
   "source": [
    "# Retain the original DataFrame to preserve unencoded columns\n",
    "original_data = new_data.copy()\n",
    "\n",
    "# Retain the Customer_ID column\n",
    "customer_ids = new_data['Customer_ID']"
   ]
  },
  {
   "cell_type": "code",
   "execution_count": 35,
   "metadata": {},
   "outputs": [],
   "source": [
    "# Drop columns that won't be used for prediction in the encoded DataFrame\n",
    "new_data = new_data.drop(['Customer_ID', 'Customer_Status', 'Churn_Category', 'Churn_Reason'], axis=1)\n",
    "\n",
    "# Encode categorical variables using the saved label encoders\n",
    "for column in new_data.select_dtypes(include=['object']).columns:\n",
    "    new_data[column] = label_encoders[column].transform(new_data[column])"
   ]
  },
  {
   "cell_type": "code",
   "execution_count": 36,
   "metadata": {},
   "outputs": [],
   "source": [
    "# Make predictions\n",
    "new_predictions = rf_model.predict(new_data)\n",
    "\n",
    "# Add predictions to the original DataFrame\n",
    "original_data['Customer_Status_Predicted'] = new_predictions"
   ]
  },
  {
   "cell_type": "code",
   "execution_count": 37,
   "metadata": {},
   "outputs": [],
   "source": [
    "# Filter the DataFrame to include only records predicted as \"Churned\"\n",
    "original_data = original_data[original_data['Customer_Status_Predicted'] == 1]"
   ]
  },
  {
   "cell_type": "markdown",
   "metadata": {},
   "source": [
    "# Export Prediction file to CVS"
   ]
  },
  {
   "cell_type": "code",
   "execution_count": 38,
   "metadata": {},
   "outputs": [],
   "source": [
    "# Save the results\n",
    "original_data.to_csv(r\"C:/Users/mosta/OneDrive/Desktop/Ds 2023/Project Data Science 30.09.2024 to 1.11.2024/Churn Analysis Portfolio Project/Prediction_Data.csv\", index=False)"
   ]
  }
 ],
 "metadata": {
  "kernelspec": {
   "display_name": "base",
   "language": "python",
   "name": "python3"
  },
  "language_info": {
   "codemirror_mode": {
    "name": "ipython",
    "version": 3
   },
   "file_extension": ".py",
   "mimetype": "text/x-python",
   "name": "python",
   "nbconvert_exporter": "python",
   "pygments_lexer": "ipython3",
   "version": "3.11.4"
  }
 },
 "nbformat": 4,
 "nbformat_minor": 2
}
